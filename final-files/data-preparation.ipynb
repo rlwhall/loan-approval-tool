{
 "cells": [
  {
   "cell_type": "markdown",
   "metadata": {},
   "source": [
    "# Loan Prediction Project - Data Preparation"
   ]
  },
  {
   "cell_type": "markdown",
   "metadata": {},
   "source": [
    "Clean and prepare data prior to modelling"
   ]
  },
  {
   "cell_type": "code",
   "execution_count": 16,
   "metadata": {},
   "outputs": [],
   "source": [
    "# import packages\n",
    "import pandas as pd\n",
    "import numpy as np\n",
    "from matplotlib import pyplot as plt\n",
    "from sklearn.utils import shuffle\n",
    "\n",
    "# hide warnings\n",
    "import warnings\n",
    "warnings.filterwarnings('ignore')"
   ]
  },
  {
   "cell_type": "code",
   "execution_count": 20,
   "metadata": {},
   "outputs": [],
   "source": [
    "# bring in dataset\n",
    "df = pd.read_csv(\"data.csv\", index_col='Loan_ID') "
   ]
  },
  {
   "cell_type": "markdown",
   "metadata": {},
   "source": [
    "### Imputing Missing Values"
   ]
  },
  {
   "cell_type": "code",
   "execution_count": 26,
   "metadata": {},
   "outputs": [
    {
     "name": "stdout",
     "output_type": "stream",
     "text": [
      "(429, 12)\n",
      "(185, 12)\n"
     ]
    }
   ],
   "source": [
    "# first, need to split into train and test sets to prevent 'peeking'\n",
    "# shuffle df\n",
    "df2 = shuffle(df)\n",
    "\n",
    "# split into train and test, 30% test size\n",
    "size = int(df2.shape[0] * 0.7)\n",
    "train = df2.iloc[:size]\n",
    "test = df2.iloc[size:]\n",
    "\n",
    "# check shapes\n",
    "print(train.shape)\n",
    "print(test.shape)"
   ]
  },
  {
   "cell_type": "code",
   "execution_count": 4,
   "metadata": {},
   "outputs": [
    {
     "data": {
      "text/plain": [
       "Credit_History      50\n",
       "Self_Employed       32\n",
       "LoanAmount          22\n",
       "Dependents          15\n",
       "Loan_Amount_Term    14\n",
       "Gender              13\n",
       "Married              3\n",
       "Education            0\n",
       "dtype: int64"
      ]
     },
     "execution_count": 4,
     "metadata": {},
     "output_type": "execute_result"
    }
   ],
   "source": [
    "# check for missing values in df\n",
    "df.isnull().sum().sort_values(ascending=False).head(8)"
   ]
  },
  {
   "cell_type": "code",
   "execution_count": 7,
   "metadata": {},
   "outputs": [
    {
     "data": {
      "text/html": [
       "<div>\n",
       "<style scoped>\n",
       "    .dataframe tbody tr th:only-of-type {\n",
       "        vertical-align: middle;\n",
       "    }\n",
       "\n",
       "    .dataframe tbody tr th {\n",
       "        vertical-align: top;\n",
       "    }\n",
       "\n",
       "    .dataframe thead th {\n",
       "        text-align: right;\n",
       "    }\n",
       "</style>\n",
       "<table border=\"1\" class=\"dataframe\">\n",
       "  <thead>\n",
       "    <tr style=\"text-align: right;\">\n",
       "      <th></th>\n",
       "      <th>ApplicantIncome</th>\n",
       "      <th>CoapplicantIncome</th>\n",
       "      <th>LoanAmount</th>\n",
       "      <th>Loan_Amount_Term</th>\n",
       "      <th>Credit_History</th>\n",
       "    </tr>\n",
       "  </thead>\n",
       "  <tbody>\n",
       "    <tr>\n",
       "      <th>count</th>\n",
       "      <td>192.000000</td>\n",
       "      <td>192.000000</td>\n",
       "      <td>181.000000</td>\n",
       "      <td>186.000000</td>\n",
       "      <td>179.000000</td>\n",
       "    </tr>\n",
       "    <tr>\n",
       "      <th>mean</th>\n",
       "      <td>5446.078125</td>\n",
       "      <td>1877.807292</td>\n",
       "      <td>151.220994</td>\n",
       "      <td>344.064516</td>\n",
       "      <td>0.541899</td>\n",
       "    </tr>\n",
       "    <tr>\n",
       "      <th>std</th>\n",
       "      <td>6819.558528</td>\n",
       "      <td>4384.060103</td>\n",
       "      <td>85.862783</td>\n",
       "      <td>69.238921</td>\n",
       "      <td>0.499639</td>\n",
       "    </tr>\n",
       "    <tr>\n",
       "      <th>min</th>\n",
       "      <td>150.000000</td>\n",
       "      <td>0.000000</td>\n",
       "      <td>9.000000</td>\n",
       "      <td>36.000000</td>\n",
       "      <td>0.000000</td>\n",
       "    </tr>\n",
       "    <tr>\n",
       "      <th>25%</th>\n",
       "      <td>2885.000000</td>\n",
       "      <td>0.000000</td>\n",
       "      <td>100.000000</td>\n",
       "      <td>360.000000</td>\n",
       "      <td>0.000000</td>\n",
       "    </tr>\n",
       "    <tr>\n",
       "      <th>50%</th>\n",
       "      <td>3833.500000</td>\n",
       "      <td>268.000000</td>\n",
       "      <td>129.000000</td>\n",
       "      <td>360.000000</td>\n",
       "      <td>1.000000</td>\n",
       "    </tr>\n",
       "    <tr>\n",
       "      <th>75%</th>\n",
       "      <td>5861.250000</td>\n",
       "      <td>2273.750000</td>\n",
       "      <td>176.000000</td>\n",
       "      <td>360.000000</td>\n",
       "      <td>1.000000</td>\n",
       "    </tr>\n",
       "    <tr>\n",
       "      <th>max</th>\n",
       "      <td>81000.000000</td>\n",
       "      <td>41667.000000</td>\n",
       "      <td>570.000000</td>\n",
       "      <td>480.000000</td>\n",
       "      <td>1.000000</td>\n",
       "    </tr>\n",
       "  </tbody>\n",
       "</table>\n",
       "</div>"
      ],
      "text/plain": [
       "       ApplicantIncome  CoapplicantIncome  LoanAmount  Loan_Amount_Term  \\\n",
       "count       192.000000         192.000000  181.000000        186.000000   \n",
       "mean       5446.078125        1877.807292  151.220994        344.064516   \n",
       "std        6819.558528        4384.060103   85.862783         69.238921   \n",
       "min         150.000000           0.000000    9.000000         36.000000   \n",
       "25%        2885.000000           0.000000  100.000000        360.000000   \n",
       "50%        3833.500000         268.000000  129.000000        360.000000   \n",
       "75%        5861.250000        2273.750000  176.000000        360.000000   \n",
       "max       81000.000000       41667.000000  570.000000        480.000000   \n",
       "\n",
       "       Credit_History  \n",
       "count      179.000000  \n",
       "mean         0.541899  \n",
       "std          0.499639  \n",
       "min          0.000000  \n",
       "25%          0.000000  \n",
       "50%          1.000000  \n",
       "75%          1.000000  \n",
       "max          1.000000  "
      ]
     },
     "execution_count": 7,
     "metadata": {},
     "output_type": "execute_result"
    }
   ],
   "source": [
    "# look at target, 'N' category\n",
    "df.loc[df['Loan_Status']=='N'].describe()"
   ]
  },
  {
   "cell_type": "code",
   "execution_count": 8,
   "metadata": {},
   "outputs": [
    {
     "data": {
      "text/html": [
       "<div>\n",
       "<style scoped>\n",
       "    .dataframe tbody tr th:only-of-type {\n",
       "        vertical-align: middle;\n",
       "    }\n",
       "\n",
       "    .dataframe tbody tr th {\n",
       "        vertical-align: top;\n",
       "    }\n",
       "\n",
       "    .dataframe thead th {\n",
       "        text-align: right;\n",
       "    }\n",
       "</style>\n",
       "<table border=\"1\" class=\"dataframe\">\n",
       "  <thead>\n",
       "    <tr style=\"text-align: right;\">\n",
       "      <th></th>\n",
       "      <th>ApplicantIncome</th>\n",
       "      <th>CoapplicantIncome</th>\n",
       "      <th>LoanAmount</th>\n",
       "      <th>Loan_Amount_Term</th>\n",
       "      <th>Credit_History</th>\n",
       "    </tr>\n",
       "  </thead>\n",
       "  <tbody>\n",
       "    <tr>\n",
       "      <th>count</th>\n",
       "      <td>422.000000</td>\n",
       "      <td>422.000000</td>\n",
       "      <td>411.000000</td>\n",
       "      <td>414.000000</td>\n",
       "      <td>385.000000</td>\n",
       "    </tr>\n",
       "    <tr>\n",
       "      <th>mean</th>\n",
       "      <td>5384.068720</td>\n",
       "      <td>1504.516398</td>\n",
       "      <td>144.294404</td>\n",
       "      <td>341.072464</td>\n",
       "      <td>0.981818</td>\n",
       "    </tr>\n",
       "    <tr>\n",
       "      <th>std</th>\n",
       "      <td>5765.441615</td>\n",
       "      <td>1924.754855</td>\n",
       "      <td>85.484607</td>\n",
       "      <td>63.247770</td>\n",
       "      <td>0.133782</td>\n",
       "    </tr>\n",
       "    <tr>\n",
       "      <th>min</th>\n",
       "      <td>210.000000</td>\n",
       "      <td>0.000000</td>\n",
       "      <td>17.000000</td>\n",
       "      <td>12.000000</td>\n",
       "      <td>0.000000</td>\n",
       "    </tr>\n",
       "    <tr>\n",
       "      <th>25%</th>\n",
       "      <td>2877.500000</td>\n",
       "      <td>0.000000</td>\n",
       "      <td>100.000000</td>\n",
       "      <td>360.000000</td>\n",
       "      <td>1.000000</td>\n",
       "    </tr>\n",
       "    <tr>\n",
       "      <th>50%</th>\n",
       "      <td>3812.500000</td>\n",
       "      <td>1239.500000</td>\n",
       "      <td>126.000000</td>\n",
       "      <td>360.000000</td>\n",
       "      <td>1.000000</td>\n",
       "    </tr>\n",
       "    <tr>\n",
       "      <th>75%</th>\n",
       "      <td>5771.500000</td>\n",
       "      <td>2297.250000</td>\n",
       "      <td>161.000000</td>\n",
       "      <td>360.000000</td>\n",
       "      <td>1.000000</td>\n",
       "    </tr>\n",
       "    <tr>\n",
       "      <th>max</th>\n",
       "      <td>63337.000000</td>\n",
       "      <td>20000.000000</td>\n",
       "      <td>700.000000</td>\n",
       "      <td>480.000000</td>\n",
       "      <td>1.000000</td>\n",
       "    </tr>\n",
       "  </tbody>\n",
       "</table>\n",
       "</div>"
      ],
      "text/plain": [
       "       ApplicantIncome  CoapplicantIncome  LoanAmount  Loan_Amount_Term  \\\n",
       "count       422.000000         422.000000  411.000000        414.000000   \n",
       "mean       5384.068720        1504.516398  144.294404        341.072464   \n",
       "std        5765.441615        1924.754855   85.484607         63.247770   \n",
       "min         210.000000           0.000000   17.000000         12.000000   \n",
       "25%        2877.500000           0.000000  100.000000        360.000000   \n",
       "50%        3812.500000        1239.500000  126.000000        360.000000   \n",
       "75%        5771.500000        2297.250000  161.000000        360.000000   \n",
       "max       63337.000000       20000.000000  700.000000        480.000000   \n",
       "\n",
       "       Credit_History  \n",
       "count      385.000000  \n",
       "mean         0.981818  \n",
       "std          0.133782  \n",
       "min          0.000000  \n",
       "25%          1.000000  \n",
       "50%          1.000000  \n",
       "75%          1.000000  \n",
       "max          1.000000  "
      ]
     },
     "execution_count": 8,
     "metadata": {},
     "output_type": "execute_result"
    }
   ],
   "source": [
    "# look at targe, 'Y' category\n",
    "df.loc[df['Loan_Status']=='Y'].describe()"
   ]
  },
  {
   "cell_type": "code",
   "execution_count": 27,
   "metadata": {},
   "outputs": [],
   "source": [
    "# fill loan amount with train median, based on Loan Status\n",
    "N_median = train.loc[(train['Loan_Status']=='N')].LoanAmount.median()\n",
    "Y_median = train.loc[(train['Loan_Status']=='Y')].LoanAmount.median()\n",
    "\n",
    "# status = N\n",
    "train['LoanAmount'].loc[train['Loan_Status'] == 'N'] = train.loc[train['Loan_Status'] == 'N'].LoanAmount.fillna(value=N_median, axis=0)\n",
    "test['LoanAmount'].loc[test['Loan_Status'] == 'N'] = test.loc[test['Loan_Status'] == 'N'].LoanAmount.fillna(value=N_median, axis=0)\n",
    "\n",
    "# status = Y\n",
    "train['LoanAmount'].loc[train['Loan_Status'] == 'Y'] = train.loc[train['Loan_Status'] == 'Y'].LoanAmount.fillna(value=Y_median, axis=0)\n",
    "test['LoanAmount'].loc[test['Loan_Status'] == 'Y'] = test.loc[test['Loan_Status'] == 'Y'].LoanAmount.fillna(value=Y_median, axis=0)"
   ]
  },
  {
   "cell_type": "code",
   "execution_count": 28,
   "metadata": {},
   "outputs": [],
   "source": [
    "# fill loan amount term with train median (no difference b/w status categories)\n",
    "train['Loan_Amount_Term'] = train.Loan_Amount_Term.fillna(value=train.Loan_Amount_Term.median(), axis=0)\n",
    "test['Loan_Amount_Term'] = test.Loan_Amount_Term.fillna(value=train.Loan_Amount_Term.median(), axis=0)"
   ]
  },
  {
   "cell_type": "code",
   "execution_count": 29,
   "metadata": {},
   "outputs": [],
   "source": [
    "# Fill missing cat_col values with 'unknown' category\n",
    "cols = ['Credit_History','Self_Employed','Dependents','Gender','Married']\n",
    "for col in cols:\n",
    "    train[col] = train[col].fillna(value='unknown', axis=0)\n",
    "    test[col] = test[col].fillna(value='unknown', axis=0)"
   ]
  },
  {
   "cell_type": "code",
   "execution_count": 30,
   "metadata": {},
   "outputs": [
    {
     "data": {
      "text/plain": [
       "Gender           0\n",
       "Married          0\n",
       "Dependents       0\n",
       "Education        0\n",
       "Self_Employed    0\n",
       "dtype: int64"
      ]
     },
     "execution_count": 30,
     "metadata": {},
     "output_type": "execute_result"
    }
   ],
   "source": [
    "# check train set for missing values\n",
    "train.isnull().sum().sort_values(ascending=False).head()"
   ]
  },
  {
   "cell_type": "code",
   "execution_count": 31,
   "metadata": {},
   "outputs": [
    {
     "data": {
      "text/plain": [
       "Gender           0\n",
       "Married          0\n",
       "Dependents       0\n",
       "Education        0\n",
       "Self_Employed    0\n",
       "dtype: int64"
      ]
     },
     "execution_count": 31,
     "metadata": {},
     "output_type": "execute_result"
    }
   ],
   "source": [
    "test.isnull().sum().sort_values(ascending=False).head()"
   ]
  },
  {
   "cell_type": "markdown",
   "metadata": {},
   "source": [
    "### Extreme values\n",
    "Try a log transformation to get rid of the extreme values in `LoanAmount`. Plot the histogram before and after the transformation"
   ]
  },
  {
   "cell_type": "code",
   "execution_count": 32,
   "metadata": {},
   "outputs": [],
   "source": [
    "# create log columns\n",
    "df['log_LoanAmount'] = np.log(df['LoanAmount'])"
   ]
  },
  {
   "cell_type": "code",
   "execution_count": 33,
   "metadata": {},
   "outputs": [
    {
     "data": {
      "image/png": "[encoded data removed]",
      "text/plain": [
       "<Figure size 432x288 with 1 Axes>"
      ]
     },
     "metadata": {
      "needs_background": "light"
     },
     "output_type": "display_data"
    }
   ],
   "source": [
    "# plot loan amount\n",
    "plt.hist(df['LoanAmount'], bins=20) \n",
    "plt.ylabel('Number of Applicants')\n",
    "plt.title('Loan Amount')\n",
    "plt.show()"
   ]
  },
  {
   "cell_type": "code",
   "execution_count": 34,
   "metadata": {},
   "outputs": [
    {
     "data": {
      "image/png": "[encoded data removed]",
      "text/plain": [
       "<Figure size 432x288 with 1 Axes>"
      ]
     },
     "metadata": {
      "needs_background": "light"
     },
     "output_type": "display_data"
    }
   ],
   "source": [
    "# plot log of loan amount\n",
    "plt.hist(df['log_LoanAmount'], bins=20) \n",
    "plt.ylabel('Number of Applicants')\n",
    "plt.title('Log of Loan Amount')\n",
    "plt.show()"
   ]
  },
  {
   "cell_type": "code",
   "execution_count": 35,
   "metadata": {},
   "outputs": [],
   "source": [
    "# log seems to help normalize distribution\n",
    "# create log of loan amount feature in train and test sets\n",
    "train['log_LoanAmount'] = np.log(train['LoanAmount'])\n",
    "test['log_LoanAmount'] = np.log(test['LoanAmount'])"
   ]
  },
  {
   "cell_type": "markdown",
   "metadata": {},
   "source": [
    "Combine both incomes as total income and take a log transformation of the same."
   ]
  },
  {
   "cell_type": "code",
   "execution_count": 38,
   "metadata": {},
   "outputs": [],
   "source": [
    "# create total income column\n",
    "df['total_income'] = df['ApplicantIncome'] + df['CoapplicantIncome']\n",
    "\n",
    "# log transform total income\n",
    "df['log_total_income'] = np.log(df['total_income'])"
   ]
  },
  {
   "cell_type": "code",
   "execution_count": 39,
   "metadata": {},
   "outputs": [
    {
     "data": {
      "image/png": "[encoded data removed]",
      "text/plain": [
       "<Figure size 432x288 with 1 Axes>"
      ]
     },
     "metadata": {
      "needs_background": "light"
     },
     "output_type": "display_data"
    }
   ],
   "source": [
    "# plot total income\n",
    "plt.hist(df['total_income'], bins=20) \n",
    "plt.ylabel('Number of Applicants')\n",
    "plt.title('Total Income')\n",
    "plt.show()"
   ]
  },
  {
   "cell_type": "code",
   "execution_count": 40,
   "metadata": {},
   "outputs": [
    {
     "data": {
      "image/png": "[encoded data removed]",
      "text/plain": [
       "<Figure size 432x288 with 1 Axes>"
      ]
     },
     "metadata": {
      "needs_background": "light"
     },
     "output_type": "display_data"
    }
   ],
   "source": [
    "# plot log of total income\n",
    "plt.hist(df['log_total_income'], bins=20) \n",
    "plt.ylabel('Number of Applicants')\n",
    "plt.title('Log of Total Income')\n",
    "plt.show()"
   ]
  },
  {
   "cell_type": "code",
   "execution_count": 41,
   "metadata": {},
   "outputs": [],
   "source": [
    "# log seems to help normalize distribution\n",
    "# create total income feature and log of total income feature in train and test sets\n",
    "train['total_income'] = train['ApplicantIncome'] + train['CoapplicantIncome']\n",
    "test['total_income'] = test['ApplicantIncome'] + test['CoapplicantIncome']\n",
    "\n",
    "train['log_total_income'] = np.log(train['total_income'])\n",
    "test['log_total_income'] = np.log(test['total_income'])"
   ]
  },
  {
   "cell_type": "code",
   "execution_count": 42,
   "metadata": {},
   "outputs": [
    {
     "name": "stdout",
     "output_type": "stream",
     "text": [
      "(429, 15)\n",
      "(185, 15)\n"
     ]
    }
   ],
   "source": [
    "# check final shapes\n",
    "print(train.shape)\n",
    "print(test.shape)"
   ]
  },
  {
   "cell_type": "code",
   "execution_count": 43,
   "metadata": {},
   "outputs": [
    {
     "data": {
      "text/plain": [
       "Index(['Gender', 'Married', 'Dependents', 'Education', 'Self_Employed',\n",
       "       'ApplicantIncome', 'CoapplicantIncome', 'LoanAmount',\n",
       "       'Loan_Amount_Term', 'Credit_History', 'Property_Area', 'Loan_Status',\n",
       "       'log_LoanAmount', 'total_income', 'log_total_income'],\n",
       "      dtype='object')"
      ]
     },
     "execution_count": 43,
     "metadata": {},
     "output_type": "execute_result"
    }
   ],
   "source": [
    "train.columns"
   ]
  },
  {
   "cell_type": "markdown",
   "metadata": {},
   "source": [
    "Great. We've walked built a process for cleaning, and engineering features. Next step is to combine all of the above into a pipeline.\n",
    "<br>Pipeline will be constructed in modelling file"
   ]
  },
  {
   "cell_type": "code",
   "execution_count": 45,
   "metadata": {},
   "outputs": [],
   "source": [
    "# before modelling, categorical variables should be encoded, and continuous scaled\n",
    "# build this into pipeline"
   ]
  },
  {
   "cell_type": "markdown",
   "metadata": {},
   "source": [
    "#### Create a balanced dataset\n",
    "\n",
    "There's a class imbalance in the target variable, we'll create a balanced dataframe to try during modelling as well"
   ]
  },
  {
   "cell_type": "code",
   "execution_count": 46,
   "metadata": {},
   "outputs": [],
   "source": [
    "# create classes\n",
    "class_0 = df.loc[df['Loan_Status']=='N']\n",
    "class_1 = df.loc[df['Loan_Status']=='Y']"
   ]
  },
  {
   "cell_type": "code",
   "execution_count": 48,
   "metadata": {},
   "outputs": [
    {
     "name": "stdout",
     "output_type": "stream",
     "text": [
      "(192, 15)\n",
      "(422, 15)\n"
     ]
    }
   ],
   "source": [
    "# check size of each class\n",
    "print(class_0.shape)\n",
    "print(class_1.shape)"
   ]
  },
  {
   "cell_type": "code",
   "execution_count": 49,
   "metadata": {},
   "outputs": [],
   "source": [
    "# oversample class_0\n",
    "class_0_sample = class_0.sample(n=422, replace=True)"
   ]
  },
  {
   "cell_type": "code",
   "execution_count": 50,
   "metadata": {},
   "outputs": [],
   "source": [
    "# combine class_1 with oversampled class_0\n",
    "balanced_df = pd.concat([class_1, class_0_sample], axis=0)\n",
    "# shuffle\n",
    "balanced_df = shuffle(balanced_df)"
   ]
  },
  {
   "cell_type": "code",
   "execution_count": 51,
   "metadata": {},
   "outputs": [
    {
     "data": {
      "text/plain": [
       "(844, 15)"
      ]
     },
     "execution_count": 51,
     "metadata": {},
     "output_type": "execute_result"
    }
   ],
   "source": [
    "balanced_df.shape"
   ]
  },
  {
   "cell_type": "code",
   "execution_count": 52,
   "metadata": {},
   "outputs": [],
   "source": [
    "# save to csv file for modelling later\n",
    "balanced_df.to_csv('balanced_data.csv')"
   ]
  }
 ],
 "metadata": {
  "kernelspec": {
   "display_name": "Python 3",
   "language": "python",
   "name": "python3"
  },
  "language_info": {
   "codemirror_mode": {
    "name": "ipython",
    "version": 3
   },
   "file_extension": ".py",
   "mimetype": "text/x-python",
   "name": "python",
   "nbconvert_exporter": "python",
   "pygments_lexer": "ipython3",
   "version": "3.8.2"
  }
 },
 "nbformat": 4,
 "nbformat_minor": 4
}
