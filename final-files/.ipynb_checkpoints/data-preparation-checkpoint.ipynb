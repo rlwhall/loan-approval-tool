{
 "cells": [
  {
   "cell_type": "markdown",
   "metadata": {},
   "source": [
    "# Loan Prediction Project - Data Preparation"
   ]
  },
  {
   "cell_type": "markdown",
   "metadata": {},
   "source": [
    "Clean and prepare data prior to modelling"
   ]
  },
  {
   "cell_type": "code",
   "execution_count": 188,
   "metadata": {},
   "outputs": [],
   "source": [
    "# import packages\n",
    "import pandas as pd\n",
    "import numpy as np\n",
    "from matplotlib import pyplot as plt\n",
    "\n",
    "from sklearn.utils import shuffle\n",
    "from sklearn.decomposition import PCA\n",
    "from sklearn.preprocessing import OneHotEncoder\n",
    "from sklearn.preprocessing import StandardScaler\n",
    "from sklearn.linear_model import LogisticRegression\n",
    "from sklearn.metrics import classification_report\n",
    "\n",
    "\n",
    "# hide warnings\n",
    "import warnings\n",
    "warnings.filterwarnings('ignore')"
   ]
  },
  {
   "cell_type": "code",
   "execution_count": 148,
   "metadata": {},
   "outputs": [],
   "source": [
    "# bring in dataset\n",
    "df = pd.read_csv(\"data.csv\", index_col='Loan_ID') "
   ]
  },
  {
   "cell_type": "markdown",
   "metadata": {},
   "source": [
    "### Imputing Missing Values"
   ]
  },
  {
   "cell_type": "code",
   "execution_count": 149,
   "metadata": {},
   "outputs": [],
   "source": [
    "# Fill missing cat_col values with 'unknown' category\n",
    "cols = ['Credit_History','Self_Employed','Dependents','Gender','Married']\n",
    "for col in cols:\n",
    "    df[col] = df[col].fillna(value='unknown', axis=0)"
   ]
  },
  {
   "cell_type": "code",
   "execution_count": 150,
   "metadata": {},
   "outputs": [
    {
     "data": {
      "text/plain": [
       "array(['1.0', '0.0', 'unknown'], dtype=object)"
      ]
     },
     "execution_count": 150,
     "metadata": {},
     "output_type": "execute_result"
    }
   ],
   "source": [
    "# Credit_History is currently continuous, set as categorical\n",
    "df.Credit_History = df.Credit_History.astype('str')\n",
    "df.Credit_History.unique()"
   ]
  },
  {
   "cell_type": "code",
   "execution_count": 151,
   "metadata": {},
   "outputs": [
    {
     "data": {
      "text/html": [
       "<div>\n",
       "<style scoped>\n",
       "    .dataframe tbody tr th:only-of-type {\n",
       "        vertical-align: middle;\n",
       "    }\n",
       "\n",
       "    .dataframe tbody tr th {\n",
       "        vertical-align: top;\n",
       "    }\n",
       "\n",
       "    .dataframe thead th {\n",
       "        text-align: right;\n",
       "    }\n",
       "</style>\n",
       "<table border=\"1\" class=\"dataframe\">\n",
       "  <thead>\n",
       "    <tr style=\"text-align: right;\">\n",
       "      <th></th>\n",
       "      <th>ApplicantIncome</th>\n",
       "      <th>CoapplicantIncome</th>\n",
       "      <th>LoanAmount</th>\n",
       "      <th>Loan_Amount_Term</th>\n",
       "      <th>Gender_Male</th>\n",
       "      <th>Gender_unknown</th>\n",
       "      <th>Married_Yes</th>\n",
       "      <th>Married_unknown</th>\n",
       "      <th>Dependents_1</th>\n",
       "      <th>Dependents_2</th>\n",
       "      <th>Dependents_3+</th>\n",
       "      <th>Dependents_unknown</th>\n",
       "      <th>Education_Not Graduate</th>\n",
       "      <th>Self_Employed_Yes</th>\n",
       "      <th>Self_Employed_unknown</th>\n",
       "      <th>Credit_History_1.0</th>\n",
       "      <th>Credit_History_unknown</th>\n",
       "      <th>Property_Area_Semiurban</th>\n",
       "      <th>Property_Area_Urban</th>\n",
       "      <th>Loan_Status_Y</th>\n",
       "    </tr>\n",
       "    <tr>\n",
       "      <th>Loan_ID</th>\n",
       "      <th></th>\n",
       "      <th></th>\n",
       "      <th></th>\n",
       "      <th></th>\n",
       "      <th></th>\n",
       "      <th></th>\n",
       "      <th></th>\n",
       "      <th></th>\n",
       "      <th></th>\n",
       "      <th></th>\n",
       "      <th></th>\n",
       "      <th></th>\n",
       "      <th></th>\n",
       "      <th></th>\n",
       "      <th></th>\n",
       "      <th></th>\n",
       "      <th></th>\n",
       "      <th></th>\n",
       "      <th></th>\n",
       "      <th></th>\n",
       "    </tr>\n",
       "  </thead>\n",
       "  <tbody>\n",
       "    <tr>\n",
       "      <th>LP001002</th>\n",
       "      <td>5849</td>\n",
       "      <td>0.0</td>\n",
       "      <td>NaN</td>\n",
       "      <td>360.0</td>\n",
       "      <td>1</td>\n",
       "      <td>0</td>\n",
       "      <td>0</td>\n",
       "      <td>0</td>\n",
       "      <td>0</td>\n",
       "      <td>0</td>\n",
       "      <td>0</td>\n",
       "      <td>0</td>\n",
       "      <td>0</td>\n",
       "      <td>0</td>\n",
       "      <td>0</td>\n",
       "      <td>1</td>\n",
       "      <td>0</td>\n",
       "      <td>0</td>\n",
       "      <td>1</td>\n",
       "      <td>1</td>\n",
       "    </tr>\n",
       "    <tr>\n",
       "      <th>LP001003</th>\n",
       "      <td>4583</td>\n",
       "      <td>1508.0</td>\n",
       "      <td>128.0</td>\n",
       "      <td>360.0</td>\n",
       "      <td>1</td>\n",
       "      <td>0</td>\n",
       "      <td>1</td>\n",
       "      <td>0</td>\n",
       "      <td>1</td>\n",
       "      <td>0</td>\n",
       "      <td>0</td>\n",
       "      <td>0</td>\n",
       "      <td>0</td>\n",
       "      <td>0</td>\n",
       "      <td>0</td>\n",
       "      <td>1</td>\n",
       "      <td>0</td>\n",
       "      <td>0</td>\n",
       "      <td>0</td>\n",
       "      <td>0</td>\n",
       "    </tr>\n",
       "    <tr>\n",
       "      <th>LP001005</th>\n",
       "      <td>3000</td>\n",
       "      <td>0.0</td>\n",
       "      <td>66.0</td>\n",
       "      <td>360.0</td>\n",
       "      <td>1</td>\n",
       "      <td>0</td>\n",
       "      <td>1</td>\n",
       "      <td>0</td>\n",
       "      <td>0</td>\n",
       "      <td>0</td>\n",
       "      <td>0</td>\n",
       "      <td>0</td>\n",
       "      <td>0</td>\n",
       "      <td>1</td>\n",
       "      <td>0</td>\n",
       "      <td>1</td>\n",
       "      <td>0</td>\n",
       "      <td>0</td>\n",
       "      <td>1</td>\n",
       "      <td>1</td>\n",
       "    </tr>\n",
       "    <tr>\n",
       "      <th>LP001006</th>\n",
       "      <td>2583</td>\n",
       "      <td>2358.0</td>\n",
       "      <td>120.0</td>\n",
       "      <td>360.0</td>\n",
       "      <td>1</td>\n",
       "      <td>0</td>\n",
       "      <td>1</td>\n",
       "      <td>0</td>\n",
       "      <td>0</td>\n",
       "      <td>0</td>\n",
       "      <td>0</td>\n",
       "      <td>0</td>\n",
       "      <td>1</td>\n",
       "      <td>0</td>\n",
       "      <td>0</td>\n",
       "      <td>1</td>\n",
       "      <td>0</td>\n",
       "      <td>0</td>\n",
       "      <td>1</td>\n",
       "      <td>1</td>\n",
       "    </tr>\n",
       "    <tr>\n",
       "      <th>LP001008</th>\n",
       "      <td>6000</td>\n",
       "      <td>0.0</td>\n",
       "      <td>141.0</td>\n",
       "      <td>360.0</td>\n",
       "      <td>1</td>\n",
       "      <td>0</td>\n",
       "      <td>0</td>\n",
       "      <td>0</td>\n",
       "      <td>0</td>\n",
       "      <td>0</td>\n",
       "      <td>0</td>\n",
       "      <td>0</td>\n",
       "      <td>0</td>\n",
       "      <td>0</td>\n",
       "      <td>0</td>\n",
       "      <td>1</td>\n",
       "      <td>0</td>\n",
       "      <td>0</td>\n",
       "      <td>1</td>\n",
       "      <td>1</td>\n",
       "    </tr>\n",
       "  </tbody>\n",
       "</table>\n",
       "</div>"
      ],
      "text/plain": [
       "          ApplicantIncome  CoapplicantIncome  LoanAmount  Loan_Amount_Term  \\\n",
       "Loan_ID                                                                      \n",
       "LP001002             5849                0.0         NaN             360.0   \n",
       "LP001003             4583             1508.0       128.0             360.0   \n",
       "LP001005             3000                0.0        66.0             360.0   \n",
       "LP001006             2583             2358.0       120.0             360.0   \n",
       "LP001008             6000                0.0       141.0             360.0   \n",
       "\n",
       "          Gender_Male  Gender_unknown  Married_Yes  Married_unknown  \\\n",
       "Loan_ID                                                               \n",
       "LP001002            1               0            0                0   \n",
       "LP001003            1               0            1                0   \n",
       "LP001005            1               0            1                0   \n",
       "LP001006            1               0            1                0   \n",
       "LP001008            1               0            0                0   \n",
       "\n",
       "          Dependents_1  Dependents_2  Dependents_3+  Dependents_unknown  \\\n",
       "Loan_ID                                                                   \n",
       "LP001002             0             0              0                   0   \n",
       "LP001003             1             0              0                   0   \n",
       "LP001005             0             0              0                   0   \n",
       "LP001006             0             0              0                   0   \n",
       "LP001008             0             0              0                   0   \n",
       "\n",
       "          Education_Not Graduate  Self_Employed_Yes  Self_Employed_unknown  \\\n",
       "Loan_ID                                                                      \n",
       "LP001002                       0                  0                      0   \n",
       "LP001003                       0                  0                      0   \n",
       "LP001005                       0                  1                      0   \n",
       "LP001006                       1                  0                      0   \n",
       "LP001008                       0                  0                      0   \n",
       "\n",
       "          Credit_History_1.0  Credit_History_unknown  Property_Area_Semiurban  \\\n",
       "Loan_ID                                                                         \n",
       "LP001002                   1                       0                        0   \n",
       "LP001003                   1                       0                        0   \n",
       "LP001005                   1                       0                        0   \n",
       "LP001006                   1                       0                        0   \n",
       "LP001008                   1                       0                        0   \n",
       "\n",
       "          Property_Area_Urban  Loan_Status_Y  \n",
       "Loan_ID                                       \n",
       "LP001002                    1              1  \n",
       "LP001003                    0              0  \n",
       "LP001005                    1              1  \n",
       "LP001006                    1              1  \n",
       "LP001008                    1              1  "
      ]
     },
     "execution_count": 151,
     "metadata": {},
     "output_type": "execute_result"
    }
   ],
   "source": [
    "# encode categorical features before splitting into train and test\n",
    "df = pd.get_dummies(df, drop_first=True)\n",
    "df.head()"
   ]
  },
  {
   "cell_type": "code",
   "execution_count": 152,
   "metadata": {},
   "outputs": [
    {
     "data": {
      "text/plain": [
       "Index(['ApplicantIncome', 'CoapplicantIncome', 'LoanAmount',\n",
       "       'Loan_Amount_Term', 'Gender_Male', 'Gender_unknown', 'Married_Yes',\n",
       "       'Married_unknown', 'Dependents_1', 'Dependents_2', 'Dependents_3+',\n",
       "       'Dependents_unknown', 'Education_Not Graduate', 'Self_Employed_Yes',\n",
       "       'Self_Employed_unknown', 'Credit_History_1.0', 'Credit_History_unknown',\n",
       "       'Property_Area_Semiurban', 'Property_Area_Urban', 'Loan_Status'],\n",
       "      dtype='object')"
      ]
     },
     "execution_count": 152,
     "metadata": {},
     "output_type": "execute_result"
    }
   ],
   "source": [
    "# rename Loan_Status_Y back to Loan_Status\n",
    "df.rename(columns={'Loan_Status_Y': 'Loan_Status'}, inplace=True)\n",
    "df.columns"
   ]
  },
  {
   "cell_type": "code",
   "execution_count": 153,
   "metadata": {},
   "outputs": [
    {
     "name": "stdout",
     "output_type": "stream",
     "text": [
      "(429, 20)\n",
      "(185, 20)\n"
     ]
    }
   ],
   "source": [
    "# first, need to split into train and test sets to prevent 'peeking'\n",
    "# shuffle df\n",
    "df2 = shuffle(df)\n",
    "\n",
    "# split into train and test, 30% test size\n",
    "size = int(df2.shape[0] * 0.7)\n",
    "train = df2.iloc[:size]\n",
    "test = df2.iloc[size:]\n",
    "\n",
    "# check shapes\n",
    "print(train.shape)\n",
    "print(test.shape)"
   ]
  },
  {
   "cell_type": "code",
   "execution_count": 154,
   "metadata": {},
   "outputs": [
    {
     "data": {
      "text/plain": [
       "LoanAmount                 22\n",
       "Loan_Amount_Term           14\n",
       "ApplicantIncome             0\n",
       "Dependents_unknown          0\n",
       "Property_Area_Urban         0\n",
       "Property_Area_Semiurban     0\n",
       "Credit_History_unknown      0\n",
       "Credit_History_1.0          0\n",
       "dtype: int64"
      ]
     },
     "execution_count": 154,
     "metadata": {},
     "output_type": "execute_result"
    }
   ],
   "source": [
    "# check for missing values in df\n",
    "df.isnull().sum().sort_values(ascending=False).head(8)"
   ]
  },
  {
   "cell_type": "code",
   "execution_count": 155,
   "metadata": {},
   "outputs": [
    {
     "data": {
      "text/html": [
       "<div>\n",
       "<style scoped>\n",
       "    .dataframe tbody tr th:only-of-type {\n",
       "        vertical-align: middle;\n",
       "    }\n",
       "\n",
       "    .dataframe tbody tr th {\n",
       "        vertical-align: top;\n",
       "    }\n",
       "\n",
       "    .dataframe thead th {\n",
       "        text-align: right;\n",
       "    }\n",
       "</style>\n",
       "<table border=\"1\" class=\"dataframe\">\n",
       "  <thead>\n",
       "    <tr style=\"text-align: right;\">\n",
       "      <th></th>\n",
       "      <th>ApplicantIncome</th>\n",
       "      <th>CoapplicantIncome</th>\n",
       "      <th>LoanAmount</th>\n",
       "      <th>Loan_Amount_Term</th>\n",
       "      <th>Gender_Male</th>\n",
       "      <th>Gender_unknown</th>\n",
       "      <th>Married_Yes</th>\n",
       "      <th>Married_unknown</th>\n",
       "      <th>Dependents_1</th>\n",
       "      <th>Dependents_2</th>\n",
       "      <th>Dependents_3+</th>\n",
       "      <th>Dependents_unknown</th>\n",
       "      <th>Education_Not Graduate</th>\n",
       "      <th>Self_Employed_Yes</th>\n",
       "      <th>Self_Employed_unknown</th>\n",
       "      <th>Credit_History_1.0</th>\n",
       "      <th>Credit_History_unknown</th>\n",
       "      <th>Property_Area_Semiurban</th>\n",
       "      <th>Property_Area_Urban</th>\n",
       "      <th>Loan_Status</th>\n",
       "    </tr>\n",
       "  </thead>\n",
       "  <tbody>\n",
       "    <tr>\n",
       "      <th>count</th>\n",
       "      <td>192.000000</td>\n",
       "      <td>192.000000</td>\n",
       "      <td>181.000000</td>\n",
       "      <td>186.000000</td>\n",
       "      <td>192.000000</td>\n",
       "      <td>192.000000</td>\n",
       "      <td>192.000000</td>\n",
       "      <td>192.0</td>\n",
       "      <td>192.000000</td>\n",
       "      <td>192.000000</td>\n",
       "      <td>192.000000</td>\n",
       "      <td>192.000000</td>\n",
       "      <td>192.000000</td>\n",
       "      <td>192.000000</td>\n",
       "      <td>192.000000</td>\n",
       "      <td>192.000000</td>\n",
       "      <td>192.000000</td>\n",
       "      <td>192.000000</td>\n",
       "      <td>192.000000</td>\n",
       "      <td>192.0</td>\n",
       "    </tr>\n",
       "    <tr>\n",
       "      <th>mean</th>\n",
       "      <td>5446.078125</td>\n",
       "      <td>1877.807292</td>\n",
       "      <td>151.220994</td>\n",
       "      <td>344.064516</td>\n",
       "      <td>0.781250</td>\n",
       "      <td>0.026042</td>\n",
       "      <td>0.588542</td>\n",
       "      <td>0.0</td>\n",
       "      <td>0.187500</td>\n",
       "      <td>0.130208</td>\n",
       "      <td>0.093750</td>\n",
       "      <td>0.031250</td>\n",
       "      <td>0.270833</td>\n",
       "      <td>0.135417</td>\n",
       "      <td>0.046875</td>\n",
       "      <td>0.505208</td>\n",
       "      <td>0.067708</td>\n",
       "      <td>0.281250</td>\n",
       "      <td>0.359375</td>\n",
       "      <td>0.0</td>\n",
       "    </tr>\n",
       "    <tr>\n",
       "      <th>std</th>\n",
       "      <td>6819.558528</td>\n",
       "      <td>4384.060103</td>\n",
       "      <td>85.862783</td>\n",
       "      <td>69.238921</td>\n",
       "      <td>0.414479</td>\n",
       "      <td>0.159676</td>\n",
       "      <td>0.493384</td>\n",
       "      <td>0.0</td>\n",
       "      <td>0.391333</td>\n",
       "      <td>0.337412</td>\n",
       "      <td>0.292243</td>\n",
       "      <td>0.174448</td>\n",
       "      <td>0.445552</td>\n",
       "      <td>0.343063</td>\n",
       "      <td>0.211924</td>\n",
       "      <td>0.501280</td>\n",
       "      <td>0.251902</td>\n",
       "      <td>0.450785</td>\n",
       "      <td>0.481072</td>\n",
       "      <td>0.0</td>\n",
       "    </tr>\n",
       "    <tr>\n",
       "      <th>min</th>\n",
       "      <td>150.000000</td>\n",
       "      <td>0.000000</td>\n",
       "      <td>9.000000</td>\n",
       "      <td>36.000000</td>\n",
       "      <td>0.000000</td>\n",
       "      <td>0.000000</td>\n",
       "      <td>0.000000</td>\n",
       "      <td>0.0</td>\n",
       "      <td>0.000000</td>\n",
       "      <td>0.000000</td>\n",
       "      <td>0.000000</td>\n",
       "      <td>0.000000</td>\n",
       "      <td>0.000000</td>\n",
       "      <td>0.000000</td>\n",
       "      <td>0.000000</td>\n",
       "      <td>0.000000</td>\n",
       "      <td>0.000000</td>\n",
       "      <td>0.000000</td>\n",
       "      <td>0.000000</td>\n",
       "      <td>0.0</td>\n",
       "    </tr>\n",
       "    <tr>\n",
       "      <th>25%</th>\n",
       "      <td>2885.000000</td>\n",
       "      <td>0.000000</td>\n",
       "      <td>100.000000</td>\n",
       "      <td>360.000000</td>\n",
       "      <td>1.000000</td>\n",
       "      <td>0.000000</td>\n",
       "      <td>0.000000</td>\n",
       "      <td>0.0</td>\n",
       "      <td>0.000000</td>\n",
       "      <td>0.000000</td>\n",
       "      <td>0.000000</td>\n",
       "      <td>0.000000</td>\n",
       "      <td>0.000000</td>\n",
       "      <td>0.000000</td>\n",
       "      <td>0.000000</td>\n",
       "      <td>0.000000</td>\n",
       "      <td>0.000000</td>\n",
       "      <td>0.000000</td>\n",
       "      <td>0.000000</td>\n",
       "      <td>0.0</td>\n",
       "    </tr>\n",
       "    <tr>\n",
       "      <th>50%</th>\n",
       "      <td>3833.500000</td>\n",
       "      <td>268.000000</td>\n",
       "      <td>129.000000</td>\n",
       "      <td>360.000000</td>\n",
       "      <td>1.000000</td>\n",
       "      <td>0.000000</td>\n",
       "      <td>1.000000</td>\n",
       "      <td>0.0</td>\n",
       "      <td>0.000000</td>\n",
       "      <td>0.000000</td>\n",
       "      <td>0.000000</td>\n",
       "      <td>0.000000</td>\n",
       "      <td>0.000000</td>\n",
       "      <td>0.000000</td>\n",
       "      <td>0.000000</td>\n",
       "      <td>1.000000</td>\n",
       "      <td>0.000000</td>\n",
       "      <td>0.000000</td>\n",
       "      <td>0.000000</td>\n",
       "      <td>0.0</td>\n",
       "    </tr>\n",
       "    <tr>\n",
       "      <th>75%</th>\n",
       "      <td>5861.250000</td>\n",
       "      <td>2273.750000</td>\n",
       "      <td>176.000000</td>\n",
       "      <td>360.000000</td>\n",
       "      <td>1.000000</td>\n",
       "      <td>0.000000</td>\n",
       "      <td>1.000000</td>\n",
       "      <td>0.0</td>\n",
       "      <td>0.000000</td>\n",
       "      <td>0.000000</td>\n",
       "      <td>0.000000</td>\n",
       "      <td>0.000000</td>\n",
       "      <td>1.000000</td>\n",
       "      <td>0.000000</td>\n",
       "      <td>0.000000</td>\n",
       "      <td>1.000000</td>\n",
       "      <td>0.000000</td>\n",
       "      <td>1.000000</td>\n",
       "      <td>1.000000</td>\n",
       "      <td>0.0</td>\n",
       "    </tr>\n",
       "    <tr>\n",
       "      <th>max</th>\n",
       "      <td>81000.000000</td>\n",
       "      <td>41667.000000</td>\n",
       "      <td>570.000000</td>\n",
       "      <td>480.000000</td>\n",
       "      <td>1.000000</td>\n",
       "      <td>1.000000</td>\n",
       "      <td>1.000000</td>\n",
       "      <td>0.0</td>\n",
       "      <td>1.000000</td>\n",
       "      <td>1.000000</td>\n",
       "      <td>1.000000</td>\n",
       "      <td>1.000000</td>\n",
       "      <td>1.000000</td>\n",
       "      <td>1.000000</td>\n",
       "      <td>1.000000</td>\n",
       "      <td>1.000000</td>\n",
       "      <td>1.000000</td>\n",
       "      <td>1.000000</td>\n",
       "      <td>1.000000</td>\n",
       "      <td>0.0</td>\n",
       "    </tr>\n",
       "  </tbody>\n",
       "</table>\n",
       "</div>"
      ],
      "text/plain": [
       "       ApplicantIncome  CoapplicantIncome  LoanAmount  Loan_Amount_Term  \\\n",
       "count       192.000000         192.000000  181.000000        186.000000   \n",
       "mean       5446.078125        1877.807292  151.220994        344.064516   \n",
       "std        6819.558528        4384.060103   85.862783         69.238921   \n",
       "min         150.000000           0.000000    9.000000         36.000000   \n",
       "25%        2885.000000           0.000000  100.000000        360.000000   \n",
       "50%        3833.500000         268.000000  129.000000        360.000000   \n",
       "75%        5861.250000        2273.750000  176.000000        360.000000   \n",
       "max       81000.000000       41667.000000  570.000000        480.000000   \n",
       "\n",
       "       Gender_Male  Gender_unknown  Married_Yes  Married_unknown  \\\n",
       "count   192.000000      192.000000   192.000000            192.0   \n",
       "mean      0.781250        0.026042     0.588542              0.0   \n",
       "std       0.414479        0.159676     0.493384              0.0   \n",
       "min       0.000000        0.000000     0.000000              0.0   \n",
       "25%       1.000000        0.000000     0.000000              0.0   \n",
       "50%       1.000000        0.000000     1.000000              0.0   \n",
       "75%       1.000000        0.000000     1.000000              0.0   \n",
       "max       1.000000        1.000000     1.000000              0.0   \n",
       "\n",
       "       Dependents_1  Dependents_2  Dependents_3+  Dependents_unknown  \\\n",
       "count    192.000000    192.000000     192.000000          192.000000   \n",
       "mean       0.187500      0.130208       0.093750            0.031250   \n",
       "std        0.391333      0.337412       0.292243            0.174448   \n",
       "min        0.000000      0.000000       0.000000            0.000000   \n",
       "25%        0.000000      0.000000       0.000000            0.000000   \n",
       "50%        0.000000      0.000000       0.000000            0.000000   \n",
       "75%        0.000000      0.000000       0.000000            0.000000   \n",
       "max        1.000000      1.000000       1.000000            1.000000   \n",
       "\n",
       "       Education_Not Graduate  Self_Employed_Yes  Self_Employed_unknown  \\\n",
       "count              192.000000         192.000000             192.000000   \n",
       "mean                 0.270833           0.135417               0.046875   \n",
       "std                  0.445552           0.343063               0.211924   \n",
       "min                  0.000000           0.000000               0.000000   \n",
       "25%                  0.000000           0.000000               0.000000   \n",
       "50%                  0.000000           0.000000               0.000000   \n",
       "75%                  1.000000           0.000000               0.000000   \n",
       "max                  1.000000           1.000000               1.000000   \n",
       "\n",
       "       Credit_History_1.0  Credit_History_unknown  Property_Area_Semiurban  \\\n",
       "count          192.000000              192.000000               192.000000   \n",
       "mean             0.505208                0.067708                 0.281250   \n",
       "std              0.501280                0.251902                 0.450785   \n",
       "min              0.000000                0.000000                 0.000000   \n",
       "25%              0.000000                0.000000                 0.000000   \n",
       "50%              1.000000                0.000000                 0.000000   \n",
       "75%              1.000000                0.000000                 1.000000   \n",
       "max              1.000000                1.000000                 1.000000   \n",
       "\n",
       "       Property_Area_Urban  Loan_Status  \n",
       "count           192.000000        192.0  \n",
       "mean              0.359375          0.0  \n",
       "std               0.481072          0.0  \n",
       "min               0.000000          0.0  \n",
       "25%               0.000000          0.0  \n",
       "50%               0.000000          0.0  \n",
       "75%               1.000000          0.0  \n",
       "max               1.000000          0.0  "
      ]
     },
     "execution_count": 155,
     "metadata": {},
     "output_type": "execute_result"
    }
   ],
   "source": [
    "# look at target, 'N' category\n",
    "df.loc[df['Loan_Status']==0].describe()"
   ]
  },
  {
   "cell_type": "code",
   "execution_count": 156,
   "metadata": {},
   "outputs": [
    {
     "data": {
      "text/html": [
       "<div>\n",
       "<style scoped>\n",
       "    .dataframe tbody tr th:only-of-type {\n",
       "        vertical-align: middle;\n",
       "    }\n",
       "\n",
       "    .dataframe tbody tr th {\n",
       "        vertical-align: top;\n",
       "    }\n",
       "\n",
       "    .dataframe thead th {\n",
       "        text-align: right;\n",
       "    }\n",
       "</style>\n",
       "<table border=\"1\" class=\"dataframe\">\n",
       "  <thead>\n",
       "    <tr style=\"text-align: right;\">\n",
       "      <th></th>\n",
       "      <th>ApplicantIncome</th>\n",
       "      <th>CoapplicantIncome</th>\n",
       "      <th>LoanAmount</th>\n",
       "      <th>Loan_Amount_Term</th>\n",
       "      <th>Gender_Male</th>\n",
       "      <th>Gender_unknown</th>\n",
       "      <th>Married_Yes</th>\n",
       "      <th>Married_unknown</th>\n",
       "      <th>Dependents_1</th>\n",
       "      <th>Dependents_2</th>\n",
       "      <th>Dependents_3+</th>\n",
       "      <th>Dependents_unknown</th>\n",
       "      <th>Education_Not Graduate</th>\n",
       "      <th>Self_Employed_Yes</th>\n",
       "      <th>Self_Employed_unknown</th>\n",
       "      <th>Credit_History_1.0</th>\n",
       "      <th>Credit_History_unknown</th>\n",
       "      <th>Property_Area_Semiurban</th>\n",
       "      <th>Property_Area_Urban</th>\n",
       "      <th>Loan_Status</th>\n",
       "    </tr>\n",
       "  </thead>\n",
       "  <tbody>\n",
       "    <tr>\n",
       "      <th>count</th>\n",
       "      <td>422.000000</td>\n",
       "      <td>422.000000</td>\n",
       "      <td>411.000000</td>\n",
       "      <td>414.000000</td>\n",
       "      <td>422.000000</td>\n",
       "      <td>422.000000</td>\n",
       "      <td>422.000000</td>\n",
       "      <td>422.000000</td>\n",
       "      <td>422.000000</td>\n",
       "      <td>422.000000</td>\n",
       "      <td>422.000000</td>\n",
       "      <td>422.000000</td>\n",
       "      <td>422.000000</td>\n",
       "      <td>422.000000</td>\n",
       "      <td>422.000000</td>\n",
       "      <td>422.000000</td>\n",
       "      <td>422.000000</td>\n",
       "      <td>422.000000</td>\n",
       "      <td>422.000000</td>\n",
       "      <td>422.0</td>\n",
       "    </tr>\n",
       "    <tr>\n",
       "      <th>mean</th>\n",
       "      <td>5384.068720</td>\n",
       "      <td>1504.516398</td>\n",
       "      <td>144.294404</td>\n",
       "      <td>341.072464</td>\n",
       "      <td>0.803318</td>\n",
       "      <td>0.018957</td>\n",
       "      <td>0.675355</td>\n",
       "      <td>0.007109</td>\n",
       "      <td>0.156398</td>\n",
       "      <td>0.180095</td>\n",
       "      <td>0.078199</td>\n",
       "      <td>0.021327</td>\n",
       "      <td>0.194313</td>\n",
       "      <td>0.132701</td>\n",
       "      <td>0.054502</td>\n",
       "      <td>0.895735</td>\n",
       "      <td>0.087678</td>\n",
       "      <td>0.424171</td>\n",
       "      <td>0.315166</td>\n",
       "      <td>1.0</td>\n",
       "    </tr>\n",
       "    <tr>\n",
       "      <th>std</th>\n",
       "      <td>5765.441615</td>\n",
       "      <td>1924.754855</td>\n",
       "      <td>85.484607</td>\n",
       "      <td>63.247770</td>\n",
       "      <td>0.397962</td>\n",
       "      <td>0.136536</td>\n",
       "      <td>0.468798</td>\n",
       "      <td>0.084114</td>\n",
       "      <td>0.363663</td>\n",
       "      <td>0.384722</td>\n",
       "      <td>0.268803</td>\n",
       "      <td>0.144644</td>\n",
       "      <td>0.396140</td>\n",
       "      <td>0.339654</td>\n",
       "      <td>0.227276</td>\n",
       "      <td>0.305967</td>\n",
       "      <td>0.283161</td>\n",
       "      <td>0.494803</td>\n",
       "      <td>0.465133</td>\n",
       "      <td>0.0</td>\n",
       "    </tr>\n",
       "    <tr>\n",
       "      <th>min</th>\n",
       "      <td>210.000000</td>\n",
       "      <td>0.000000</td>\n",
       "      <td>17.000000</td>\n",
       "      <td>12.000000</td>\n",
       "      <td>0.000000</td>\n",
       "      <td>0.000000</td>\n",
       "      <td>0.000000</td>\n",
       "      <td>0.000000</td>\n",
       "      <td>0.000000</td>\n",
       "      <td>0.000000</td>\n",
       "      <td>0.000000</td>\n",
       "      <td>0.000000</td>\n",
       "      <td>0.000000</td>\n",
       "      <td>0.000000</td>\n",
       "      <td>0.000000</td>\n",
       "      <td>0.000000</td>\n",
       "      <td>0.000000</td>\n",
       "      <td>0.000000</td>\n",
       "      <td>0.000000</td>\n",
       "      <td>1.0</td>\n",
       "    </tr>\n",
       "    <tr>\n",
       "      <th>25%</th>\n",
       "      <td>2877.500000</td>\n",
       "      <td>0.000000</td>\n",
       "      <td>100.000000</td>\n",
       "      <td>360.000000</td>\n",
       "      <td>1.000000</td>\n",
       "      <td>0.000000</td>\n",
       "      <td>0.000000</td>\n",
       "      <td>0.000000</td>\n",
       "      <td>0.000000</td>\n",
       "      <td>0.000000</td>\n",
       "      <td>0.000000</td>\n",
       "      <td>0.000000</td>\n",
       "      <td>0.000000</td>\n",
       "      <td>0.000000</td>\n",
       "      <td>0.000000</td>\n",
       "      <td>1.000000</td>\n",
       "      <td>0.000000</td>\n",
       "      <td>0.000000</td>\n",
       "      <td>0.000000</td>\n",
       "      <td>1.0</td>\n",
       "    </tr>\n",
       "    <tr>\n",
       "      <th>50%</th>\n",
       "      <td>3812.500000</td>\n",
       "      <td>1239.500000</td>\n",
       "      <td>126.000000</td>\n",
       "      <td>360.000000</td>\n",
       "      <td>1.000000</td>\n",
       "      <td>0.000000</td>\n",
       "      <td>1.000000</td>\n",
       "      <td>0.000000</td>\n",
       "      <td>0.000000</td>\n",
       "      <td>0.000000</td>\n",
       "      <td>0.000000</td>\n",
       "      <td>0.000000</td>\n",
       "      <td>0.000000</td>\n",
       "      <td>0.000000</td>\n",
       "      <td>0.000000</td>\n",
       "      <td>1.000000</td>\n",
       "      <td>0.000000</td>\n",
       "      <td>0.000000</td>\n",
       "      <td>0.000000</td>\n",
       "      <td>1.0</td>\n",
       "    </tr>\n",
       "    <tr>\n",
       "      <th>75%</th>\n",
       "      <td>5771.500000</td>\n",
       "      <td>2297.250000</td>\n",
       "      <td>161.000000</td>\n",
       "      <td>360.000000</td>\n",
       "      <td>1.000000</td>\n",
       "      <td>0.000000</td>\n",
       "      <td>1.000000</td>\n",
       "      <td>0.000000</td>\n",
       "      <td>0.000000</td>\n",
       "      <td>0.000000</td>\n",
       "      <td>0.000000</td>\n",
       "      <td>0.000000</td>\n",
       "      <td>0.000000</td>\n",
       "      <td>0.000000</td>\n",
       "      <td>0.000000</td>\n",
       "      <td>1.000000</td>\n",
       "      <td>0.000000</td>\n",
       "      <td>1.000000</td>\n",
       "      <td>1.000000</td>\n",
       "      <td>1.0</td>\n",
       "    </tr>\n",
       "    <tr>\n",
       "      <th>max</th>\n",
       "      <td>63337.000000</td>\n",
       "      <td>20000.000000</td>\n",
       "      <td>700.000000</td>\n",
       "      <td>480.000000</td>\n",
       "      <td>1.000000</td>\n",
       "      <td>1.000000</td>\n",
       "      <td>1.000000</td>\n",
       "      <td>1.000000</td>\n",
       "      <td>1.000000</td>\n",
       "      <td>1.000000</td>\n",
       "      <td>1.000000</td>\n",
       "      <td>1.000000</td>\n",
       "      <td>1.000000</td>\n",
       "      <td>1.000000</td>\n",
       "      <td>1.000000</td>\n",
       "      <td>1.000000</td>\n",
       "      <td>1.000000</td>\n",
       "      <td>1.000000</td>\n",
       "      <td>1.000000</td>\n",
       "      <td>1.0</td>\n",
       "    </tr>\n",
       "  </tbody>\n",
       "</table>\n",
       "</div>"
      ],
      "text/plain": [
       "       ApplicantIncome  CoapplicantIncome  LoanAmount  Loan_Amount_Term  \\\n",
       "count       422.000000         422.000000  411.000000        414.000000   \n",
       "mean       5384.068720        1504.516398  144.294404        341.072464   \n",
       "std        5765.441615        1924.754855   85.484607         63.247770   \n",
       "min         210.000000           0.000000   17.000000         12.000000   \n",
       "25%        2877.500000           0.000000  100.000000        360.000000   \n",
       "50%        3812.500000        1239.500000  126.000000        360.000000   \n",
       "75%        5771.500000        2297.250000  161.000000        360.000000   \n",
       "max       63337.000000       20000.000000  700.000000        480.000000   \n",
       "\n",
       "       Gender_Male  Gender_unknown  Married_Yes  Married_unknown  \\\n",
       "count   422.000000      422.000000   422.000000       422.000000   \n",
       "mean      0.803318        0.018957     0.675355         0.007109   \n",
       "std       0.397962        0.136536     0.468798         0.084114   \n",
       "min       0.000000        0.000000     0.000000         0.000000   \n",
       "25%       1.000000        0.000000     0.000000         0.000000   \n",
       "50%       1.000000        0.000000     1.000000         0.000000   \n",
       "75%       1.000000        0.000000     1.000000         0.000000   \n",
       "max       1.000000        1.000000     1.000000         1.000000   \n",
       "\n",
       "       Dependents_1  Dependents_2  Dependents_3+  Dependents_unknown  \\\n",
       "count    422.000000    422.000000     422.000000          422.000000   \n",
       "mean       0.156398      0.180095       0.078199            0.021327   \n",
       "std        0.363663      0.384722       0.268803            0.144644   \n",
       "min        0.000000      0.000000       0.000000            0.000000   \n",
       "25%        0.000000      0.000000       0.000000            0.000000   \n",
       "50%        0.000000      0.000000       0.000000            0.000000   \n",
       "75%        0.000000      0.000000       0.000000            0.000000   \n",
       "max        1.000000      1.000000       1.000000            1.000000   \n",
       "\n",
       "       Education_Not Graduate  Self_Employed_Yes  Self_Employed_unknown  \\\n",
       "count              422.000000         422.000000             422.000000   \n",
       "mean                 0.194313           0.132701               0.054502   \n",
       "std                  0.396140           0.339654               0.227276   \n",
       "min                  0.000000           0.000000               0.000000   \n",
       "25%                  0.000000           0.000000               0.000000   \n",
       "50%                  0.000000           0.000000               0.000000   \n",
       "75%                  0.000000           0.000000               0.000000   \n",
       "max                  1.000000           1.000000               1.000000   \n",
       "\n",
       "       Credit_History_1.0  Credit_History_unknown  Property_Area_Semiurban  \\\n",
       "count          422.000000              422.000000               422.000000   \n",
       "mean             0.895735                0.087678                 0.424171   \n",
       "std              0.305967                0.283161                 0.494803   \n",
       "min              0.000000                0.000000                 0.000000   \n",
       "25%              1.000000                0.000000                 0.000000   \n",
       "50%              1.000000                0.000000                 0.000000   \n",
       "75%              1.000000                0.000000                 1.000000   \n",
       "max              1.000000                1.000000                 1.000000   \n",
       "\n",
       "       Property_Area_Urban  Loan_Status  \n",
       "count           422.000000        422.0  \n",
       "mean              0.315166          1.0  \n",
       "std               0.465133          0.0  \n",
       "min               0.000000          1.0  \n",
       "25%               0.000000          1.0  \n",
       "50%               0.000000          1.0  \n",
       "75%               1.000000          1.0  \n",
       "max               1.000000          1.0  "
      ]
     },
     "execution_count": 156,
     "metadata": {},
     "output_type": "execute_result"
    }
   ],
   "source": [
    "# look at targe, 'Y' category\n",
    "df.loc[df['Loan_Status']==1].describe()"
   ]
  },
  {
   "cell_type": "code",
   "execution_count": 157,
   "metadata": {},
   "outputs": [],
   "source": [
    "# fill loan amount with train median, based on Loan Status\n",
    "N_median = train.loc[(train['Loan_Status']==0)].LoanAmount.median()\n",
    "Y_median = train.loc[(train['Loan_Status']==1)].LoanAmount.median()\n",
    "\n",
    "# status = N\n",
    "train['LoanAmount'].loc[train['Loan_Status'] == 0] = train.loc[train['Loan_Status'] == 0].LoanAmount.fillna(value=N_median, axis=0)\n",
    "test['LoanAmount'].loc[test['Loan_Status'] == 0] = test.loc[test['Loan_Status'] == 0].LoanAmount.fillna(value=N_median, axis=0)\n",
    "\n",
    "# status = Y\n",
    "train['LoanAmount'].loc[train['Loan_Status'] == 1] = train.loc[train['Loan_Status'] == 1].LoanAmount.fillna(value=Y_median, axis=0)\n",
    "test['LoanAmount'].loc[test['Loan_Status'] == 1] = test.loc[test['Loan_Status'] == 1].LoanAmount.fillna(value=Y_median, axis=0)"
   ]
  },
  {
   "cell_type": "code",
   "execution_count": 158,
   "metadata": {},
   "outputs": [],
   "source": [
    "# fill loan amount term with train median (no difference b/w status categories)\n",
    "train['Loan_Amount_Term'] = train.Loan_Amount_Term.fillna(value=train.Loan_Amount_Term.median(), axis=0)\n",
    "test['Loan_Amount_Term'] = test.Loan_Amount_Term.fillna(value=train.Loan_Amount_Term.median(), axis=0)"
   ]
  },
  {
   "cell_type": "code",
   "execution_count": 159,
   "metadata": {},
   "outputs": [
    {
     "data": {
      "text/plain": [
       "ApplicantIncome            0\n",
       "CoapplicantIncome          0\n",
       "Property_Area_Urban        0\n",
       "Property_Area_Semiurban    0\n",
       "Credit_History_unknown     0\n",
       "dtype: int64"
      ]
     },
     "execution_count": 159,
     "metadata": {},
     "output_type": "execute_result"
    }
   ],
   "source": [
    "# check train set for missing values\n",
    "train.isnull().sum().sort_values(ascending=False).head()"
   ]
  },
  {
   "cell_type": "code",
   "execution_count": 160,
   "metadata": {},
   "outputs": [
    {
     "data": {
      "text/plain": [
       "ApplicantIncome            0\n",
       "CoapplicantIncome          0\n",
       "Property_Area_Urban        0\n",
       "Property_Area_Semiurban    0\n",
       "Credit_History_unknown     0\n",
       "dtype: int64"
      ]
     },
     "execution_count": 160,
     "metadata": {},
     "output_type": "execute_result"
    }
   ],
   "source": [
    "test.isnull().sum().sort_values(ascending=False).head()"
   ]
  },
  {
   "cell_type": "markdown",
   "metadata": {},
   "source": [
    "### Extreme values\n",
    "Try a log transformation to get rid of the extreme values in `LoanAmount`. Plot the histogram before and after the transformation"
   ]
  },
  {
   "cell_type": "code",
   "execution_count": 161,
   "metadata": {},
   "outputs": [],
   "source": [
    "# create log columns\n",
    "df['log_LoanAmount'] = np.log(df['LoanAmount'])"
   ]
  },
  {
   "cell_type": "code",
   "execution_count": 162,
   "metadata": {},
   "outputs": [
    {
     "data": {
      "image/png": "[encoded data removed]",
      "text/plain": [
       "<Figure size 432x288 with 1 Axes>"
      ]
     },
     "metadata": {
      "needs_background": "light"
     },
     "output_type": "display_data"
    }
   ],
   "source": [
    "# plot loan amount\n",
    "plt.hist(df['LoanAmount'], bins=20) \n",
    "plt.ylabel('Number of Applicants')\n",
    "plt.title('Loan Amount')\n",
    "plt.show()"
   ]
  },
  {
   "cell_type": "code",
   "execution_count": 163,
   "metadata": {},
   "outputs": [
    {
     "data": {
      "image/png": "[encoded data removed]",
      "text/plain": [
       "<Figure size 432x288 with 1 Axes>"
      ]
     },
     "metadata": {
      "needs_background": "light"
     },
     "output_type": "display_data"
    }
   ],
   "source": [
    "# plot log of loan amount\n",
    "plt.hist(df['log_LoanAmount'], bins=20) \n",
    "plt.ylabel('Number of Applicants')\n",
    "plt.title('Log of Loan Amount')\n",
    "plt.show()"
   ]
  },
  {
   "cell_type": "code",
   "execution_count": 164,
   "metadata": {},
   "outputs": [],
   "source": [
    "# log seems to help normalize distribution\n",
    "# create log of loan amount feature in train and test sets\n",
    "train['log_LoanAmount'] = np.log(train['LoanAmount'])\n",
    "test['log_LoanAmount'] = np.log(test['LoanAmount'])"
   ]
  },
  {
   "cell_type": "markdown",
   "metadata": {},
   "source": [
    "Combine both incomes as total income and take a log transformation of the same."
   ]
  },
  {
   "cell_type": "code",
   "execution_count": 165,
   "metadata": {},
   "outputs": [],
   "source": [
    "# create total income column\n",
    "df['total_income'] = df['ApplicantIncome'] + df['CoapplicantIncome']\n",
    "\n",
    "# log transform total income\n",
    "df['log_total_income'] = np.log(df['total_income'])"
   ]
  },
  {
   "cell_type": "code",
   "execution_count": 166,
   "metadata": {},
   "outputs": [
    {
     "data": {
      "image/png": "[encoded data removed]",
      "text/plain": [
       "<Figure size 432x288 with 1 Axes>"
      ]
     },
     "metadata": {
      "needs_background": "light"
     },
     "output_type": "display_data"
    }
   ],
   "source": [
    "# plot total income\n",
    "plt.hist(df['total_income'], bins=20) \n",
    "plt.ylabel('Number of Applicants')\n",
    "plt.title('Total Income')\n",
    "plt.show()"
   ]
  },
  {
   "cell_type": "code",
   "execution_count": 167,
   "metadata": {},
   "outputs": [
    {
     "data": {
      "image/png": "[encoded data removed]",
      "text/plain": [
       "<Figure size 432x288 with 1 Axes>"
      ]
     },
     "metadata": {
      "needs_background": "light"
     },
     "output_type": "display_data"
    }
   ],
   "source": [
    "# plot log of total income\n",
    "plt.hist(df['log_total_income'], bins=20) \n",
    "plt.ylabel('Number of Applicants')\n",
    "plt.title('Log of Total Income')\n",
    "plt.show()"
   ]
  },
  {
   "cell_type": "code",
   "execution_count": 168,
   "metadata": {},
   "outputs": [],
   "source": [
    "# log seems to help normalize distribution\n",
    "# create total income feature and log of total income feature in train and test sets\n",
    "train['total_income'] = train['ApplicantIncome'] + train['CoapplicantIncome']\n",
    "test['total_income'] = test['ApplicantIncome'] + test['CoapplicantIncome']\n",
    "\n",
    "train['log_total_income'] = np.log(train['total_income'])\n",
    "test['log_total_income'] = np.log(test['total_income'])"
   ]
  },
  {
   "cell_type": "code",
   "execution_count": 173,
   "metadata": {},
   "outputs": [
    {
     "name": "stdout",
     "output_type": "stream",
     "text": [
      "(429, 23)\n",
      "(185, 23)\n",
      "ApplicantIncome           0\n",
      "Education_Not Graduate    0\n",
      "dtype: int64\n",
      "ApplicantIncome           0\n",
      "Education_Not Graduate    0\n",
      "dtype: int64\n"
     ]
    }
   ],
   "source": [
    "# check final shapes\n",
    "print(train.shape)\n",
    "print(test.shape)\n",
    "#check for missing values\n",
    "print(train.isnull().sum().sort_values(ascending=False).head(2))\n",
    "print(test.isnull().sum().sort_values(ascending=False).head(2))"
   ]
  },
  {
   "cell_type": "code",
   "execution_count": 174,
   "metadata": {},
   "outputs": [
    {
     "data": {
      "text/plain": [
       "Index(['ApplicantIncome', 'CoapplicantIncome', 'LoanAmount',\n",
       "       'Loan_Amount_Term', 'Gender_Male', 'Gender_unknown', 'Married_Yes',\n",
       "       'Married_unknown', 'Dependents_1', 'Dependents_2', 'Dependents_3+',\n",
       "       'Dependents_unknown', 'Education_Not Graduate', 'Self_Employed_Yes',\n",
       "       'Self_Employed_unknown', 'Credit_History_1.0', 'Credit_History_unknown',\n",
       "       'Property_Area_Semiurban', 'Property_Area_Urban', 'Loan_Status',\n",
       "       'log_LoanAmount', 'total_income', 'log_total_income'],\n",
       "      dtype='object')"
      ]
     },
     "execution_count": 174,
     "metadata": {},
     "output_type": "execute_result"
    }
   ],
   "source": [
    "train.columns"
   ]
  },
  {
   "cell_type": "code",
   "execution_count": 175,
   "metadata": {},
   "outputs": [
    {
     "data": {
      "text/plain": [
       "LogisticRegression()"
      ]
     },
     "execution_count": 175,
     "metadata": {},
     "output_type": "execute_result"
    }
   ],
   "source": [
    "# let's try a baseline model\n",
    "# split into X and y\n",
    "X_train = train.drop(labels='Loan_Status', axis=1)\n",
    "y_train = train.Loan_Status\n",
    "X_test = test.drop(labels='Loan_Status', axis=1)\n",
    "y_test = test.Loan_Status\n",
    "\n",
    "# scale\n",
    "scaler = StandardScaler()\n",
    "scaler.fit(X_train)\n",
    "X_train = scaler.transform(X_train)\n",
    "X_test = scaler.transform(X_test)\n",
    "\n",
    "# fit logistic regression model\n",
    "lr = LogisticRegression()\n",
    "lr.fit(X_train, y_train)"
   ]
  },
  {
   "cell_type": "code",
   "execution_count": 180,
   "metadata": {},
   "outputs": [
    {
     "name": "stdout",
     "output_type": "stream",
     "text": [
      "Final score is:  0.8054054054054054\n",
      "              precision    recall  f1-score   support\n",
      "\n",
      "           0       0.88      0.40      0.55        55\n",
      "           1       0.79      0.98      0.88       130\n",
      "\n",
      "    accuracy                           0.81       185\n",
      "   macro avg       0.84      0.69      0.71       185\n",
      "weighted avg       0.82      0.81      0.78       185\n",
      "\n"
     ]
    }
   ],
   "source": [
    "# predict\n",
    "y_pred = lr.predict(X_test)\n",
    "# show results\n",
    "print('Final score is: ', lr.score(X_test, y_test))\n",
    "rep = classification_report(y_test,y_pred)\n",
    "print(rep)"
   ]
  },
  {
   "cell_type": "markdown",
   "metadata": {},
   "source": [
    "Great. We've walked built a process for cleaning, and engineering features. Next step is to combine all of the above into a pipeline.\n",
    "<br>Pipeline will be constructed in modelling file"
   ]
  },
  {
   "cell_type": "markdown",
   "metadata": {},
   "source": [
    "#### Explore PCA "
   ]
  },
  {
   "cell_type": "code",
   "execution_count": 199,
   "metadata": {},
   "outputs": [
    {
     "name": "stdout",
     "output_type": "stream",
     "text": [
      "[0.19072664 0.07978663 0.07595531 0.07088932 0.06252323]\n",
      "\n",
      "[0.19072664 0.27051327 0.34646859 0.4173579  0.47988113]\n"
     ]
    },
    {
     "data": {
      "image/png": "[encoded data removed]",
      "text/plain": [
       "<Figure size 432x288 with 1 Axes>"
      ]
     },
     "metadata": {
      "needs_background": "light"
     },
     "output_type": "display_data"
    }
   ],
   "source": [
    "# plot the explained variants to understand appropriate number of PC's to use during modelling\n",
    "pca = PCA()\n",
    "pca.fit(X_train)\n",
    "\n",
    "# print top 5 PCs\n",
    "print(pca.explained_variance_ratio_[:5])\n",
    "\n",
    "print('')\n",
    "\n",
    "# cumulative variance explained\n",
    "cum_var_explained = np.cumsum(pca.explained_variance_ratio_)\n",
    "print(cum_var_explained[:5])\n",
    "\n",
    "# plotting\n",
    "fig, ax = plt.subplots()\n",
    "ax.plot(range(1, len(cum_var_explained) + 1),\n",
    "        cum_var_explained)\n",
    "ax.set_ylim(0,1)\n",
    "\n",
    "plt.show()"
   ]
  },
  {
   "cell_type": "markdown",
   "metadata": {},
   "source": [
    "Not a clear elbow here, so some experiementation on optimal number of components will be needed during modelling."
   ]
  },
  {
   "cell_type": "markdown",
   "metadata": {},
   "source": [
    "#### Create a balanced dataset\n",
    "\n",
    "There's a class imbalance in the target variable, we'll create a balanced dataframe to try during modelling as well"
   ]
  },
  {
   "cell_type": "code",
   "execution_count": 181,
   "metadata": {},
   "outputs": [],
   "source": [
    "df = pd.read_csv(\"data.csv\", index_col='Loan_ID') "
   ]
  },
  {
   "cell_type": "code",
   "execution_count": 182,
   "metadata": {},
   "outputs": [],
   "source": [
    "# create classes\n",
    "class_0 = df.loc[df['Loan_Status']=='N']\n",
    "class_1 = df.loc[df['Loan_Status']=='Y']"
   ]
  },
  {
   "cell_type": "code",
   "execution_count": 183,
   "metadata": {},
   "outputs": [
    {
     "name": "stdout",
     "output_type": "stream",
     "text": [
      "(192, 12)\n",
      "(422, 12)\n"
     ]
    }
   ],
   "source": [
    "# check size of each class\n",
    "print(class_0.shape)\n",
    "print(class_1.shape)"
   ]
  },
  {
   "cell_type": "code",
   "execution_count": 184,
   "metadata": {},
   "outputs": [],
   "source": [
    "# oversample class_0\n",
    "class_0_sample = class_0.sample(n=422, replace=True)"
   ]
  },
  {
   "cell_type": "code",
   "execution_count": 185,
   "metadata": {},
   "outputs": [],
   "source": [
    "# combine class_1 with oversampled class_0\n",
    "balanced_df = pd.concat([class_1, class_0_sample], axis=0)\n",
    "# shuffle\n",
    "balanced_df = shuffle(balanced_df)"
   ]
  },
  {
   "cell_type": "code",
   "execution_count": 186,
   "metadata": {},
   "outputs": [
    {
     "data": {
      "text/plain": [
       "(844, 12)"
      ]
     },
     "execution_count": 186,
     "metadata": {},
     "output_type": "execute_result"
    }
   ],
   "source": [
    "balanced_df.shape"
   ]
  },
  {
   "cell_type": "code",
   "execution_count": 187,
   "metadata": {},
   "outputs": [],
   "source": [
    "# save to csv file for modelling later\n",
    "balanced_df.to_csv('balanced_data.csv')"
   ]
  },
  {
   "cell_type": "code",
   "execution_count": null,
   "metadata": {},
   "outputs": [],
   "source": []
  }
 ],
 "metadata": {
  "kernelspec": {
   "display_name": "Python 3",
   "language": "python",
   "name": "python3"
  },
  "language_info": {
   "codemirror_mode": {
    "name": "ipython",
    "version": 3
   },
   "file_extension": ".py",
   "mimetype": "text/x-python",
   "name": "python",
   "nbconvert_exporter": "python",
   "pygments_lexer": "ipython3",
   "version": "3.8.2"
  }
 },
 "nbformat": 4,
 "nbformat_minor": 4
}
