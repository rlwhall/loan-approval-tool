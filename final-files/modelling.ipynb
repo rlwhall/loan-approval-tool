{
 "cells": [
  {
   "cell_type": "markdown",
   "metadata": {},
   "source": [
    "# Loan Prediction Project - Pipeline Construction and Modelling\n",
    "\n",
    "Using the data preparation process we developed, we'll build a pipeline, use it to choose and tune a model, then save the model for deployment."
   ]
  },
  {
   "cell_type": "code",
   "execution_count": 103,
   "metadata": {},
   "outputs": [],
   "source": [
    "# import packages\n",
    "import pandas as pd\n",
    "import numpy as np\n",
    "from matplotlib import pyplot as plt\n",
    "import pickle\n",
    "from sklearn import set_config\n",
    "\n",
    "from sklearn.utils import shuffle\n",
    "from sklearn.preprocessing import OneHotEncoder\n",
    "from sklearn.preprocessing import LabelEncoder\n",
    "from sklearn.preprocessing import StandardScaler, RobustScaler, QuantileTransformer\n",
    "from sklearn.preprocessing import FunctionTransformer\n",
    "from sklearn.impute import SimpleImputer\n",
    "from sklearn.pipeline import Pipeline, FeatureUnion\n",
    "\n",
    "from sklearn.model_selection import train_test_split\n",
    "from sklearn.decomposition import PCA\n",
    "from sklearn.feature_selection import SelectKBest\n",
    "\n",
    "from sklearn.naive_bayes import GaussianNB\n",
    "from sklearn.linear_model import LogisticRegression\n",
    "from xgboost import XGBClassifier\n",
    "from sklearn.svm import SVC\n",
    "from sklearn.ensemble import RandomForestClassifier\n",
    "from sklearn.ensemble import GradientBoostingClassifier\n",
    "from sklearn.model_selection import GridSearchCV\n",
    "\n",
    "from sklearn.metrics import plot_confusion_matrix\n",
    "from sklearn.metrics import classification_report\n",
    "from sklearn.metrics import confusion_matrix\n",
    "from sklearn.metrics import roc_auc_score\n",
    "from sklearn.metrics import precision_score\n",
    "from sklearn.metrics import recall_score\n",
    "from sklearn.metrics import f1_score\n",
    "from sklearn.metrics import plot_roc_curve\n",
    "\n",
    "# hide warnings\n",
    "import warnings\n",
    "warnings.filterwarnings('ignore')"
   ]
  },
  {
   "cell_type": "code",
   "execution_count": 2,
   "metadata": {},
   "outputs": [],
   "source": [
    "# bring in dataset\n",
    "df = pd.read_csv(\"data.csv\", index_col='Loan_ID') \n",
    "# bring in balanced dataset\n",
    "Bdf = pd.read_csv(\"balanced_data.csv\", index_col='Loan_ID') "
   ]
  },
  {
   "cell_type": "code",
   "execution_count": 3,
   "metadata": {},
   "outputs": [
    {
     "data": {
      "text/html": [
       "<div>\n",
       "<style scoped>\n",
       "    .dataframe tbody tr th:only-of-type {\n",
       "        vertical-align: middle;\n",
       "    }\n",
       "\n",
       "    .dataframe tbody tr th {\n",
       "        vertical-align: top;\n",
       "    }\n",
       "\n",
       "    .dataframe thead th {\n",
       "        text-align: right;\n",
       "    }\n",
       "</style>\n",
       "<table border=\"1\" class=\"dataframe\">\n",
       "  <thead>\n",
       "    <tr style=\"text-align: right;\">\n",
       "      <th></th>\n",
       "      <th>Gender</th>\n",
       "      <th>Married</th>\n",
       "      <th>Dependents</th>\n",
       "      <th>Education</th>\n",
       "      <th>Self_Employed</th>\n",
       "      <th>ApplicantIncome</th>\n",
       "      <th>CoapplicantIncome</th>\n",
       "      <th>LoanAmount</th>\n",
       "      <th>Loan_Amount_Term</th>\n",
       "      <th>Credit_History</th>\n",
       "      <th>Property_Area</th>\n",
       "      <th>Loan_Status</th>\n",
       "    </tr>\n",
       "    <tr>\n",
       "      <th>Loan_ID</th>\n",
       "      <th></th>\n",
       "      <th></th>\n",
       "      <th></th>\n",
       "      <th></th>\n",
       "      <th></th>\n",
       "      <th></th>\n",
       "      <th></th>\n",
       "      <th></th>\n",
       "      <th></th>\n",
       "      <th></th>\n",
       "      <th></th>\n",
       "      <th></th>\n",
       "    </tr>\n",
       "  </thead>\n",
       "  <tbody>\n",
       "    <tr>\n",
       "      <th>LP001002</th>\n",
       "      <td>Male</td>\n",
       "      <td>No</td>\n",
       "      <td>0</td>\n",
       "      <td>Graduate</td>\n",
       "      <td>No</td>\n",
       "      <td>5849</td>\n",
       "      <td>0.0</td>\n",
       "      <td>NaN</td>\n",
       "      <td>360.0</td>\n",
       "      <td>1.0</td>\n",
       "      <td>Urban</td>\n",
       "      <td>Y</td>\n",
       "    </tr>\n",
       "    <tr>\n",
       "      <th>LP001003</th>\n",
       "      <td>Male</td>\n",
       "      <td>Yes</td>\n",
       "      <td>1</td>\n",
       "      <td>Graduate</td>\n",
       "      <td>No</td>\n",
       "      <td>4583</td>\n",
       "      <td>1508.0</td>\n",
       "      <td>128.0</td>\n",
       "      <td>360.0</td>\n",
       "      <td>1.0</td>\n",
       "      <td>Rural</td>\n",
       "      <td>N</td>\n",
       "    </tr>\n",
       "    <tr>\n",
       "      <th>LP001005</th>\n",
       "      <td>Male</td>\n",
       "      <td>Yes</td>\n",
       "      <td>0</td>\n",
       "      <td>Graduate</td>\n",
       "      <td>Yes</td>\n",
       "      <td>3000</td>\n",
       "      <td>0.0</td>\n",
       "      <td>66.0</td>\n",
       "      <td>360.0</td>\n",
       "      <td>1.0</td>\n",
       "      <td>Urban</td>\n",
       "      <td>Y</td>\n",
       "    </tr>\n",
       "    <tr>\n",
       "      <th>LP001006</th>\n",
       "      <td>Male</td>\n",
       "      <td>Yes</td>\n",
       "      <td>0</td>\n",
       "      <td>Not Graduate</td>\n",
       "      <td>No</td>\n",
       "      <td>2583</td>\n",
       "      <td>2358.0</td>\n",
       "      <td>120.0</td>\n",
       "      <td>360.0</td>\n",
       "      <td>1.0</td>\n",
       "      <td>Urban</td>\n",
       "      <td>Y</td>\n",
       "    </tr>\n",
       "    <tr>\n",
       "      <th>LP001008</th>\n",
       "      <td>Male</td>\n",
       "      <td>No</td>\n",
       "      <td>0</td>\n",
       "      <td>Graduate</td>\n",
       "      <td>No</td>\n",
       "      <td>6000</td>\n",
       "      <td>0.0</td>\n",
       "      <td>141.0</td>\n",
       "      <td>360.0</td>\n",
       "      <td>1.0</td>\n",
       "      <td>Urban</td>\n",
       "      <td>Y</td>\n",
       "    </tr>\n",
       "  </tbody>\n",
       "</table>\n",
       "</div>"
      ],
      "text/plain": [
       "         Gender Married Dependents     Education Self_Employed  \\\n",
       "Loan_ID                                                          \n",
       "LP001002   Male      No          0      Graduate            No   \n",
       "LP001003   Male     Yes          1      Graduate            No   \n",
       "LP001005   Male     Yes          0      Graduate           Yes   \n",
       "LP001006   Male     Yes          0  Not Graduate            No   \n",
       "LP001008   Male      No          0      Graduate            No   \n",
       "\n",
       "          ApplicantIncome  CoapplicantIncome  LoanAmount  Loan_Amount_Term  \\\n",
       "Loan_ID                                                                      \n",
       "LP001002             5849                0.0         NaN             360.0   \n",
       "LP001003             4583             1508.0       128.0             360.0   \n",
       "LP001005             3000                0.0        66.0             360.0   \n",
       "LP001006             2583             2358.0       120.0             360.0   \n",
       "LP001008             6000                0.0       141.0             360.0   \n",
       "\n",
       "          Credit_History Property_Area Loan_Status  \n",
       "Loan_ID                                             \n",
       "LP001002             1.0         Urban           Y  \n",
       "LP001003             1.0         Rural           N  \n",
       "LP001005             1.0         Urban           Y  \n",
       "LP001006             1.0         Urban           Y  \n",
       "LP001008             1.0         Urban           Y  "
      ]
     },
     "execution_count": 3,
     "metadata": {},
     "output_type": "execute_result"
    }
   ],
   "source": [
    "df.head()"
   ]
  },
  {
   "cell_type": "code",
   "execution_count": 4,
   "metadata": {},
   "outputs": [
    {
     "data": {
      "text/html": [
       "<div>\n",
       "<style scoped>\n",
       "    .dataframe tbody tr th:only-of-type {\n",
       "        vertical-align: middle;\n",
       "    }\n",
       "\n",
       "    .dataframe tbody tr th {\n",
       "        vertical-align: top;\n",
       "    }\n",
       "\n",
       "    .dataframe thead th {\n",
       "        text-align: right;\n",
       "    }\n",
       "</style>\n",
       "<table border=\"1\" class=\"dataframe\">\n",
       "  <thead>\n",
       "    <tr style=\"text-align: right;\">\n",
       "      <th></th>\n",
       "      <th>Gender</th>\n",
       "      <th>Married</th>\n",
       "      <th>Dependents</th>\n",
       "      <th>Education</th>\n",
       "      <th>Self_Employed</th>\n",
       "      <th>ApplicantIncome</th>\n",
       "      <th>CoapplicantIncome</th>\n",
       "      <th>LoanAmount</th>\n",
       "      <th>Loan_Amount_Term</th>\n",
       "      <th>Credit_History</th>\n",
       "      <th>Property_Area</th>\n",
       "      <th>Loan_Status</th>\n",
       "      <th>log_LoanAmount</th>\n",
       "      <th>total_income</th>\n",
       "      <th>log_total_income</th>\n",
       "    </tr>\n",
       "    <tr>\n",
       "      <th>Loan_ID</th>\n",
       "      <th></th>\n",
       "      <th></th>\n",
       "      <th></th>\n",
       "      <th></th>\n",
       "      <th></th>\n",
       "      <th></th>\n",
       "      <th></th>\n",
       "      <th></th>\n",
       "      <th></th>\n",
       "      <th></th>\n",
       "      <th></th>\n",
       "      <th></th>\n",
       "      <th></th>\n",
       "      <th></th>\n",
       "      <th></th>\n",
       "    </tr>\n",
       "  </thead>\n",
       "  <tbody>\n",
       "    <tr>\n",
       "      <th>LP001179</th>\n",
       "      <td>Male</td>\n",
       "      <td>Yes</td>\n",
       "      <td>2</td>\n",
       "      <td>Graduate</td>\n",
       "      <td>No</td>\n",
       "      <td>4616</td>\n",
       "      <td>0.0</td>\n",
       "      <td>134.0</td>\n",
       "      <td>360.0</td>\n",
       "      <td>1.0</td>\n",
       "      <td>Urban</td>\n",
       "      <td>N</td>\n",
       "      <td>4.897840</td>\n",
       "      <td>4616.0</td>\n",
       "      <td>8.437284</td>\n",
       "    </tr>\n",
       "    <tr>\n",
       "      <th>LP001691</th>\n",
       "      <td>Male</td>\n",
       "      <td>Yes</td>\n",
       "      <td>2</td>\n",
       "      <td>Not Graduate</td>\n",
       "      <td>No</td>\n",
       "      <td>3917</td>\n",
       "      <td>0.0</td>\n",
       "      <td>124.0</td>\n",
       "      <td>360.0</td>\n",
       "      <td>1.0</td>\n",
       "      <td>Semiurban</td>\n",
       "      <td>Y</td>\n",
       "      <td>4.820282</td>\n",
       "      <td>3917.0</td>\n",
       "      <td>8.273081</td>\n",
       "    </tr>\n",
       "    <tr>\n",
       "      <th>LP001119</th>\n",
       "      <td>Male</td>\n",
       "      <td>No</td>\n",
       "      <td>0</td>\n",
       "      <td>Graduate</td>\n",
       "      <td>No</td>\n",
       "      <td>3600</td>\n",
       "      <td>0.0</td>\n",
       "      <td>80.0</td>\n",
       "      <td>360.0</td>\n",
       "      <td>1.0</td>\n",
       "      <td>Urban</td>\n",
       "      <td>N</td>\n",
       "      <td>4.382027</td>\n",
       "      <td>3600.0</td>\n",
       "      <td>8.188689</td>\n",
       "    </tr>\n",
       "    <tr>\n",
       "      <th>LP001938</th>\n",
       "      <td>Male</td>\n",
       "      <td>Yes</td>\n",
       "      <td>2</td>\n",
       "      <td>Graduate</td>\n",
       "      <td>No</td>\n",
       "      <td>4400</td>\n",
       "      <td>0.0</td>\n",
       "      <td>127.0</td>\n",
       "      <td>360.0</td>\n",
       "      <td>0.0</td>\n",
       "      <td>Semiurban</td>\n",
       "      <td>N</td>\n",
       "      <td>4.844187</td>\n",
       "      <td>4400.0</td>\n",
       "      <td>8.389360</td>\n",
       "    </tr>\n",
       "    <tr>\n",
       "      <th>LP001750</th>\n",
       "      <td>Male</td>\n",
       "      <td>Yes</td>\n",
       "      <td>0</td>\n",
       "      <td>Graduate</td>\n",
       "      <td>No</td>\n",
       "      <td>6250</td>\n",
       "      <td>0.0</td>\n",
       "      <td>128.0</td>\n",
       "      <td>360.0</td>\n",
       "      <td>1.0</td>\n",
       "      <td>Semiurban</td>\n",
       "      <td>Y</td>\n",
       "      <td>4.852030</td>\n",
       "      <td>6250.0</td>\n",
       "      <td>8.740337</td>\n",
       "    </tr>\n",
       "  </tbody>\n",
       "</table>\n",
       "</div>"
      ],
      "text/plain": [
       "         Gender Married Dependents     Education Self_Employed  \\\n",
       "Loan_ID                                                          \n",
       "LP001179   Male     Yes          2      Graduate            No   \n",
       "LP001691   Male     Yes          2  Not Graduate            No   \n",
       "LP001119   Male      No          0      Graduate            No   \n",
       "LP001938   Male     Yes          2      Graduate            No   \n",
       "LP001750   Male     Yes          0      Graduate            No   \n",
       "\n",
       "          ApplicantIncome  CoapplicantIncome  LoanAmount  Loan_Amount_Term  \\\n",
       "Loan_ID                                                                      \n",
       "LP001179             4616                0.0       134.0             360.0   \n",
       "LP001691             3917                0.0       124.0             360.0   \n",
       "LP001119             3600                0.0        80.0             360.0   \n",
       "LP001938             4400                0.0       127.0             360.0   \n",
       "LP001750             6250                0.0       128.0             360.0   \n",
       "\n",
       "          Credit_History Property_Area Loan_Status  log_LoanAmount  \\\n",
       "Loan_ID                                                              \n",
       "LP001179             1.0         Urban           N        4.897840   \n",
       "LP001691             1.0     Semiurban           Y        4.820282   \n",
       "LP001119             1.0         Urban           N        4.382027   \n",
       "LP001938             0.0     Semiurban           N        4.844187   \n",
       "LP001750             1.0     Semiurban           Y        4.852030   \n",
       "\n",
       "          total_income  log_total_income  \n",
       "Loan_ID                                   \n",
       "LP001179        4616.0          8.437284  \n",
       "LP001691        3917.0          8.273081  \n",
       "LP001119        3600.0          8.188689  \n",
       "LP001938        4400.0          8.389360  \n",
       "LP001750        6250.0          8.740337  "
      ]
     },
     "execution_count": 4,
     "metadata": {},
     "output_type": "execute_result"
    }
   ],
   "source": [
    "Bdf.head()"
   ]
  },
  {
   "cell_type": "code",
   "execution_count": 27,
   "metadata": {},
   "outputs": [],
   "source": [
    "# assign X and y\n",
    "X = df.drop(labels=['Loan_Status'], axis=1)\n",
    "y = df['Loan_Status']\n",
    "\n",
    "# select cat and con feats\n",
    "cat_feats = X.select_dtypes('object').columns.tolist()\n",
    "num_feats = X.select_dtypes(['int','float']).columns.tolist()\n",
    "\n",
    "# encode y (1=approved)\n",
    "label = LabelEncoder()\n",
    "y = label.fit_transform(y)"
   ]
  },
  {
   "cell_type": "code",
   "execution_count": 31,
   "metadata": {},
   "outputs": [],
   "source": [
    "# create convenience function for model evaluation\n",
    "def evaluate(model, X_train_, X_test_, y_train_, y_test_):\n",
    "    y_pred = model.predict(X_test_)\n",
    "    y_train_pred = model.predict(X_train_)\n",
    "\n",
    "    test_acc = model.score(X_test_, y_test_)\n",
    "    train_acc = model.score(X_train_, y_train_)\n",
    "    print('Train accuracy:', train_acc)\n",
    "    print('Test accuracy:', test_acc)\n",
    "\n",
    "    train_probs = model.predict_proba(X_train_)[:,1]\n",
    "    train_auc = roc_auc_score(y_train_,train_probs)\n",
    "    print('Train auc:', train_auc)\n",
    "    test_probs = model.predict_proba(X_test_)[:,1]\n",
    "    test_auc = roc_auc_score(y_test_,test_probs)\n",
    "    print('Test auc:', test_auc)\n",
    "\n",
    "    train_precision = precision_score(y_train_, y_train_pred)\n",
    "    test_precision = precision_score(y_test_, y_pred)\n",
    "    print('Train precision:', train_precision)\n",
    "    print('Test precision:', test_precision)\n",
    "\n",
    "    train_recall = recall_score(y_train_, y_train_pred)\n",
    "    test_recall = recall_score(y_test_, y_pred)\n",
    "    print('Train recall:', train_recall)\n",
    "    print('Test recall:', test_recall)\n",
    "\n",
    "    train_f1 = f1_score(y_train_, y_train_pred)\n",
    "    test_f1 = f1_score(y_test_, y_pred)\n",
    "    print('F1 score train:', train_f1)\n",
    "    print('F1 score test:', test_f1)\n",
    "\n",
    "    cr = classification_report(y_test_,y_pred)\n",
    "    print(cr)\n",
    "\n",
    "    plot_confusion_matrix(model, X_test_, y_test_)\n",
    "\n",
    "    plot_roc_curve(estimator=model, X=X_test_, y=y_test_)"
   ]
  },
  {
   "cell_type": "markdown",
   "metadata": {},
   "source": [
    "### Pipeline Development"
   ]
  },
  {
   "cell_type": "code",
   "execution_count": 34,
   "metadata": {},
   "outputs": [],
   "source": [
    "# test train split\n",
    "X_train, X_test, y_train, y_test = train_test_split(X, y, test_size=0.3, random_state=21)"
   ]
  },
  {
   "cell_type": "code",
   "execution_count": 14,
   "metadata": {},
   "outputs": [],
   "source": [
    "# set credit history as object\n",
    "def cr_obj(data):\n",
    "    data['Credit_History'] = data.Credit_History.astype('object')\n",
    "    return data\n",
    "\n",
    "credit_object = FunctionTransformer(cr_obj)\n",
    "\n",
    "# creat function to select categorical and continuous variables\n",
    "def numFeat(data):\n",
    "    return data[num_feats]\n",
    "\n",
    "def catFeat(data):\n",
    "    return data[cat_feats]\n",
    "\n",
    "# we will start two separate pipelines for each type of features\n",
    "keep_num = FunctionTransformer(numFeat)\n",
    "keep_cat = FunctionTransformer(catFeat)\n",
    "\n",
    "# SimpleImputer for num_cols\n",
    "num_imputer = SimpleImputer(missing_values=np.nan, strategy='median')\n",
    "# SimpleImputer for cat_cols\n",
    "cat_imputer = SimpleImputer(missing_values=np.nan, strategy='constant', fill_value='unknown')\n",
    "\n",
    "# create new total_income column\n",
    "def create_total(data):\n",
    "    data['total_income'] = data['ApplicantIncome'] + data['CoapplicantIncome']\n",
    "    return data\n",
    "\n",
    "create_total_income = FunctionTransformer(create_total)\n",
    "\n",
    "# log transform Totalamount and total_income\n",
    "def log_transform(data):\n",
    "    data_df = pd.DataFrame(data)\n",
    "    cols = [3,5]\n",
    "    for col in cols:\n",
    "        data_df[col] = np.log(data_df[col])\n",
    "    data_np = data_df.to_numpy()\n",
    "    return data_np\n",
    "\n",
    "logs = FunctionTransformer(log_transform)\n",
    "\n",
    "# Densify class for cat feats after encoding\n",
    "class ToDenseTransformer():\n",
    "    def transform(self, X, y=None, **fit_params):\n",
    "        return X.todense()\n",
    "    \n",
    "    def fit(self, X, y=None, **fit_params):\n",
    "        return self\n",
    "    \n",
    "encode = OneHotEncoder()\n",
    "\n",
    "scaler = StandardScaler()"
   ]
  },
  {
   "cell_type": "code",
   "execution_count": 15,
   "metadata": {},
   "outputs": [],
   "source": [
    "# cat feats pipeline\n",
    "cat_preprocessing = Pipeline([\n",
    "    ('credit', credit_object),\n",
    "    ('cats', keep_cat),\n",
    "    ('cat_nulls', cat_imputer),\n",
    "    ('encode', encode),\n",
    "    ('densify', ToDenseTransformer())\n",
    "])\n",
    "\n",
    "# num feats pipeline\n",
    "num_preprocessing = Pipeline([\n",
    "    ('nums', keep_num),\n",
    "    ('income', create_total_income),\n",
    "    ('num_nulls', num_imputer),\n",
    "    ('transform', logs),\n",
    "    ('scale', scaler)\n",
    "])"
   ]
  },
  {
   "cell_type": "code",
   "execution_count": 16,
   "metadata": {},
   "outputs": [],
   "source": [
    "# combine features back together\n",
    "values_union = FeatureUnion([\n",
    "    ('cat_cols', cat_preprocessing),\n",
    "    ('num_cols', num_preprocessing),\n",
    "])"
   ]
  },
  {
   "cell_type": "markdown",
   "metadata": {},
   "source": [
    "### Baseline models"
   ]
  },
  {
   "cell_type": "markdown",
   "metadata": {},
   "source": [
    "#### LogisticRegression"
   ]
  },
  {
   "cell_type": "code",
   "execution_count": 35,
   "metadata": {
    "collapsed": true,
    "jupyter": {
     "outputs_hidden": true
    }
   },
   "outputs": [
    {
     "data": {
      "text/plain": [
       "Pipeline(steps=[('values',\n",
       "                 FeatureUnion(transformer_list=[('cat_cols',\n",
       "                                                 Pipeline(steps=[('credit',\n",
       "                                                                  FunctionTransformer(func=<function cr_obj at 0x7fdcc20c6ca0>)),\n",
       "                                                                 ('cats',\n",
       "                                                                  FunctionTransformer(func=<function catFeat at 0x7fdcc20c6f70>)),\n",
       "                                                                 ('cat_nulls',\n",
       "                                                                  SimpleImputer(fill_value='unknown',\n",
       "                                                                                strategy='constant')),\n",
       "                                                                 ('encode',\n",
       "                                                                  OneHotEncoder()),\n",
       "                                                                 ('densify',\n",
       "                                                                  <__main__.ToDenseT...\n",
       "                                                 Pipeline(steps=[('nums',\n",
       "                                                                  FunctionTransformer(func=<function numFeat at 0x7fdcc20c6ee0>)),\n",
       "                                                                 ('income',\n",
       "                                                                  FunctionTransformer(func=<function create_total at 0x7fdcc20e4040>)),\n",
       "                                                                 ('num_nulls',\n",
       "                                                                  SimpleImputer(strategy='median')),\n",
       "                                                                 ('transform',\n",
       "                                                                  FunctionTransformer(func=<function log_transform at 0x7fdcc20e40d0>)),\n",
       "                                                                 ('scale',\n",
       "                                                                  StandardScaler())]))])),\n",
       "                ('classifier', LogisticRegression())])"
      ]
     },
     "execution_count": 35,
     "metadata": {},
     "output_type": "execute_result"
    }
   ],
   "source": [
    "model = LogisticRegression()\n",
    "\n",
    "base_pipeline = Pipeline(\n",
    "    steps=[\n",
    "    ('values', values_union),\n",
    "    ('classifier', model)\n",
    "])\n",
    "\n",
    "# fit pipeline\n",
    "base_pipeline.fit(X_train, y_train)"
   ]
  },
  {
   "cell_type": "code",
   "execution_count": 36,
   "metadata": {
    "collapsed": true,
    "jupyter": {
     "outputs_hidden": true
    }
   },
   "outputs": [
    {
     "name": "stdout",
     "output_type": "stream",
     "text": [
      "Train accuracy: 0.8065268065268065\n",
      "Test accuracy: 0.8162162162162162\n",
      "Train auc: 0.8062943705629436\n",
      "Test auc: 0.771048951048951\n",
      "Train precision: 0.784741144414169\n",
      "Test precision: 0.8243243243243243\n",
      "Train recall: 0.9863013698630136\n",
      "Test recall: 0.9384615384615385\n",
      "F1 score train: 0.874051593323217\n",
      "F1 score test: 0.8776978417266187\n",
      "              precision    recall  f1-score   support\n",
      "\n",
      "           0       0.78      0.53      0.63        55\n",
      "           1       0.82      0.94      0.88       130\n",
      "\n",
      "    accuracy                           0.82       185\n",
      "   macro avg       0.80      0.73      0.75       185\n",
      "weighted avg       0.81      0.82      0.80       185\n",
      "\n"
     ]
    },
    {
     "data": {
      "image/png": "[encoded data removed]",
      "text/plain": [
       "<Figure size 432x288 with 2 Axes>"
      ]
     },
     "metadata": {
      "needs_background": "light"
     },
     "output_type": "display_data"
    },
    {
     "data": {
      "image/png": "[encoded data removed]",
      "text/plain": [
       "<Figure size 432x288 with 1 Axes>"
      ]
     },
     "metadata": {
      "needs_background": "light"
     },
     "output_type": "display_data"
    }
   ],
   "source": [
    "# predict and evaluate\n",
    "evaluate(base_pipeline, X_train, X_test, y_train, y_test)"
   ]
  },
  {
   "cell_type": "markdown",
   "metadata": {},
   "source": [
    "#### Naive Bayes"
   ]
  },
  {
   "cell_type": "code",
   "execution_count": 37,
   "metadata": {
    "collapsed": true,
    "jupyter": {
     "outputs_hidden": true
    }
   },
   "outputs": [
    {
     "data": {
      "text/plain": [
       "Pipeline(steps=[('values',\n",
       "                 FeatureUnion(transformer_list=[('cat_cols',\n",
       "                                                 Pipeline(steps=[('credit',\n",
       "                                                                  FunctionTransformer(func=<function cr_obj at 0x7fdcc20c6ca0>)),\n",
       "                                                                 ('cats',\n",
       "                                                                  FunctionTransformer(func=<function catFeat at 0x7fdcc20c6f70>)),\n",
       "                                                                 ('cat_nulls',\n",
       "                                                                  SimpleImputer(fill_value='unknown',\n",
       "                                                                                strategy='constant')),\n",
       "                                                                 ('encode',\n",
       "                                                                  OneHotEncoder()),\n",
       "                                                                 ('densify',\n",
       "                                                                  <__main__.ToDenseT...\n",
       "                                                 Pipeline(steps=[('nums',\n",
       "                                                                  FunctionTransformer(func=<function numFeat at 0x7fdcc20c6ee0>)),\n",
       "                                                                 ('income',\n",
       "                                                                  FunctionTransformer(func=<function create_total at 0x7fdcc20e4040>)),\n",
       "                                                                 ('num_nulls',\n",
       "                                                                  SimpleImputer(strategy='median')),\n",
       "                                                                 ('transform',\n",
       "                                                                  FunctionTransformer(func=<function log_transform at 0x7fdcc20e40d0>)),\n",
       "                                                                 ('scale',\n",
       "                                                                  StandardScaler())]))])),\n",
       "                ('classifier', GaussianNB())])"
      ]
     },
     "execution_count": 37,
     "metadata": {},
     "output_type": "execute_result"
    }
   ],
   "source": [
    "model = GaussianNB()\n",
    "\n",
    "base_pipeline = Pipeline(\n",
    "    steps=[\n",
    "    ('values', values_union),\n",
    "    ('classifier', model)\n",
    "])\n",
    "\n",
    "# fit pipeline\n",
    "base_pipeline.fit(X_train, y_train)"
   ]
  },
  {
   "cell_type": "code",
   "execution_count": 38,
   "metadata": {
    "collapsed": true,
    "jupyter": {
     "outputs_hidden": true
    }
   },
   "outputs": [
    {
     "name": "stdout",
     "output_type": "stream",
     "text": [
      "Train accuracy: 0.34498834498834496\n",
      "Test accuracy: 0.33513513513513515\n",
      "Train auc: 0.7993450654934506\n",
      "Test auc: 0.7476923076923077\n",
      "Train precision: 0.9230769230769231\n",
      "Test precision: 1.0\n",
      "Train recall: 0.0410958904109589\n",
      "Test recall: 0.05384615384615385\n",
      "F1 score train: 0.07868852459016394\n",
      "F1 score test: 0.10218978102189781\n",
      "              precision    recall  f1-score   support\n",
      "\n",
      "           0       0.31      1.00      0.47        55\n",
      "           1       1.00      0.05      0.10       130\n",
      "\n",
      "    accuracy                           0.34       185\n",
      "   macro avg       0.65      0.53      0.29       185\n",
      "weighted avg       0.79      0.34      0.21       185\n",
      "\n"
     ]
    },
    {
     "data": {
      "image/png": "[encoded data removed]",
      "text/plain": [
       "<Figure size 432x288 with 2 Axes>"
      ]
     },
     "metadata": {
      "needs_background": "light"
     },
     "output_type": "display_data"
    },
    {
     "data": {
      "image/png": "[encoded data removed]",
      "text/plain": [
       "<Figure size 432x288 with 1 Axes>"
      ]
     },
     "metadata": {
      "needs_background": "light"
     },
     "output_type": "display_data"
    }
   ],
   "source": [
    "# predict and evaluate\n",
    "evaluate(base_pipeline, X_train, X_test, y_train, y_test)"
   ]
  },
  {
   "cell_type": "markdown",
   "metadata": {},
   "source": [
    "#### SVM Classifier"
   ]
  },
  {
   "cell_type": "code",
   "execution_count": 42,
   "metadata": {
    "collapsed": true,
    "jupyter": {
     "outputs_hidden": true
    }
   },
   "outputs": [
    {
     "data": {
      "text/plain": [
       "Pipeline(steps=[('values',\n",
       "                 FeatureUnion(transformer_list=[('cat_cols',\n",
       "                                                 Pipeline(steps=[('credit',\n",
       "                                                                  FunctionTransformer(func=<function cr_obj at 0x7fdcc20c6ca0>)),\n",
       "                                                                 ('cats',\n",
       "                                                                  FunctionTransformer(func=<function catFeat at 0x7fdcc20c6f70>)),\n",
       "                                                                 ('cat_nulls',\n",
       "                                                                  SimpleImputer(fill_value='unknown',\n",
       "                                                                                strategy='constant')),\n",
       "                                                                 ('encode',\n",
       "                                                                  OneHotEncoder()),\n",
       "                                                                 ('densify',\n",
       "                                                                  <__main__.ToDenseT...\n",
       "                                                 Pipeline(steps=[('nums',\n",
       "                                                                  FunctionTransformer(func=<function numFeat at 0x7fdcc20c6ee0>)),\n",
       "                                                                 ('income',\n",
       "                                                                  FunctionTransformer(func=<function create_total at 0x7fdcc20e4040>)),\n",
       "                                                                 ('num_nulls',\n",
       "                                                                  SimpleImputer(strategy='median')),\n",
       "                                                                 ('transform',\n",
       "                                                                  FunctionTransformer(func=<function log_transform at 0x7fdcc20e40d0>)),\n",
       "                                                                 ('scale',\n",
       "                                                                  StandardScaler())]))])),\n",
       "                ('classifier', SVC(probability=True))])"
      ]
     },
     "execution_count": 42,
     "metadata": {},
     "output_type": "execute_result"
    }
   ],
   "source": [
    "model = SVC(probability=True)\n",
    "\n",
    "base_pipeline = Pipeline(\n",
    "    steps=[\n",
    "    ('values', values_union),\n",
    "    ('classifier', model)\n",
    "])\n",
    "\n",
    "# fit pipeline\n",
    "base_pipeline.fit(X_train, y_train)"
   ]
  },
  {
   "cell_type": "code",
   "execution_count": 43,
   "metadata": {},
   "outputs": [
    {
     "name": "stdout",
     "output_type": "stream",
     "text": [
      "Train accuracy: 0.8205128205128205\n",
      "Test accuracy: 0.827027027027027\n",
      "Train auc: 0.906084391560844\n",
      "Test auc: 0.745034965034965\n",
      "Train precision: 0.7945205479452054\n",
      "Test precision: 0.8181818181818182\n",
      "Train recall: 0.9931506849315068\n",
      "Test recall: 0.9692307692307692\n",
      "F1 score train: 0.8828006088280062\n",
      "F1 score test: 0.8873239436619719\n",
      "              precision    recall  f1-score   support\n",
      "\n",
      "           0       0.87      0.49      0.63        55\n",
      "           1       0.82      0.97      0.89       130\n",
      "\n",
      "    accuracy                           0.83       185\n",
      "   macro avg       0.84      0.73      0.76       185\n",
      "weighted avg       0.83      0.83      0.81       185\n",
      "\n"
     ]
    },
    {
     "data": {
      "image/png": "[encoded data removed]",
      "text/plain": [
       "<Figure size 432x288 with 2 Axes>"
      ]
     },
     "metadata": {
      "needs_background": "light"
     },
     "output_type": "display_data"
    },
    {
     "data": {
      "image/png": "[encoded data removed]",
      "text/plain": [
       "<Figure size 432x288 with 1 Axes>"
      ]
     },
     "metadata": {
      "needs_background": "light"
     },
     "output_type": "display_data"
    }
   ],
   "source": [
    "# predict and evaluate\n",
    "evaluate(base_pipeline, X_train, X_test, y_train, y_test)"
   ]
  },
  {
   "cell_type": "markdown",
   "metadata": {},
   "source": [
    "#### Random Forest"
   ]
  },
  {
   "cell_type": "code",
   "execution_count": 45,
   "metadata": {
    "collapsed": true,
    "jupyter": {
     "outputs_hidden": true
    }
   },
   "outputs": [
    {
     "data": {
      "text/plain": [
       "Pipeline(steps=[('values',\n",
       "                 FeatureUnion(transformer_list=[('cat_cols',\n",
       "                                                 Pipeline(steps=[('credit',\n",
       "                                                                  FunctionTransformer(func=<function cr_obj at 0x7fdcc20c6ca0>)),\n",
       "                                                                 ('cats',\n",
       "                                                                  FunctionTransformer(func=<function catFeat at 0x7fdcc20c6f70>)),\n",
       "                                                                 ('cat_nulls',\n",
       "                                                                  SimpleImputer(fill_value='unknown',\n",
       "                                                                                strategy='constant')),\n",
       "                                                                 ('encode',\n",
       "                                                                  OneHotEncoder()),\n",
       "                                                                 ('densify',\n",
       "                                                                  <__main__.ToDenseT...\n",
       "                                                 Pipeline(steps=[('nums',\n",
       "                                                                  FunctionTransformer(func=<function numFeat at 0x7fdcc20c6ee0>)),\n",
       "                                                                 ('income',\n",
       "                                                                  FunctionTransformer(func=<function create_total at 0x7fdcc20e4040>)),\n",
       "                                                                 ('num_nulls',\n",
       "                                                                  SimpleImputer(strategy='median')),\n",
       "                                                                 ('transform',\n",
       "                                                                  FunctionTransformer(func=<function log_transform at 0x7fdcc20e40d0>)),\n",
       "                                                                 ('scale',\n",
       "                                                                  StandardScaler())]))])),\n",
       "                ('classifier', RandomForestClassifier())])"
      ]
     },
     "execution_count": 45,
     "metadata": {},
     "output_type": "execute_result"
    }
   ],
   "source": [
    "model = RandomForestClassifier()\n",
    "\n",
    "base_pipeline = Pipeline(\n",
    "    steps=[\n",
    "    ('values', values_union),\n",
    "    ('classifier', model)\n",
    "])\n",
    "\n",
    "# fit pipeline\n",
    "base_pipeline.fit(X_train, y_train)"
   ]
  },
  {
   "cell_type": "code",
   "execution_count": 46,
   "metadata": {
    "collapsed": true,
    "jupyter": {
     "outputs_hidden": true
    }
   },
   "outputs": [
    {
     "name": "stdout",
     "output_type": "stream",
     "text": [
      "Train accuracy: 1.0\n",
      "Test accuracy: 0.7837837837837838\n",
      "Train auc: 1.0\n",
      "Test auc: 0.7900699300699301\n",
      "Train precision: 1.0\n",
      "Test precision: 0.8169014084507042\n",
      "Train recall: 1.0\n",
      "Test recall: 0.8923076923076924\n",
      "F1 score train: 1.0\n",
      "F1 score test: 0.8529411764705882\n",
      "              precision    recall  f1-score   support\n",
      "\n",
      "           0       0.67      0.53      0.59        55\n",
      "           1       0.82      0.89      0.85       130\n",
      "\n",
      "    accuracy                           0.78       185\n",
      "   macro avg       0.75      0.71      0.72       185\n",
      "weighted avg       0.77      0.78      0.78       185\n",
      "\n"
     ]
    },
    {
     "data": {
      "image/png": "[encoded data removed]",
      "text/plain": [
       "<Figure size 432x288 with 2 Axes>"
      ]
     },
     "metadata": {
      "needs_background": "light"
     },
     "output_type": "display_data"
    },
    {
     "data": {
      "image/png": "[encoded data removed]",
      "text/plain": [
       "<Figure size 432x288 with 1 Axes>"
      ]
     },
     "metadata": {
      "needs_background": "light"
     },
     "output_type": "display_data"
    }
   ],
   "source": [
    "# predict and evaluate\n",
    "evaluate(base_pipeline, X_train, X_test, y_train, y_test)"
   ]
  },
  {
   "cell_type": "markdown",
   "metadata": {},
   "source": [
    "#### XGBoost"
   ]
  },
  {
   "cell_type": "code",
   "execution_count": 48,
   "metadata": {
    "collapsed": true,
    "jupyter": {
     "outputs_hidden": true
    }
   },
   "outputs": [
    {
     "name": "stdout",
     "output_type": "stream",
     "text": [
      "[16:36:01] WARNING: /Users/travis/build/dmlc/xgboost/src/learner.cc:1061: Starting in XGBoost 1.3.0, the default evaluation metric used with the objective 'binary:logistic' was changed from 'error' to 'logloss'. Explicitly set eval_metric if you'd like to restore the old behavior.\n"
     ]
    },
    {
     "data": {
      "text/plain": [
       "Pipeline(steps=[('values',\n",
       "                 FeatureUnion(transformer_list=[('cat_cols',\n",
       "                                                 Pipeline(steps=[('credit',\n",
       "                                                                  FunctionTransformer(func=<function cr_obj at 0x7fdcc20c6ca0>)),\n",
       "                                                                 ('cats',\n",
       "                                                                  FunctionTransformer(func=<function catFeat at 0x7fdcc20c6f70>)),\n",
       "                                                                 ('cat_nulls',\n",
       "                                                                  SimpleImputer(fill_value='unknown',\n",
       "                                                                                strategy='constant')),\n",
       "                                                                 ('encode',\n",
       "                                                                  OneHotEncoder()),\n",
       "                                                                 ('densify',\n",
       "                                                                  <__main__.ToDenseT...\n",
       "                               colsample_bytree=1, gamma=0, gpu_id=-1,\n",
       "                               importance_type='gain',\n",
       "                               interaction_constraints='',\n",
       "                               learning_rate=0.300000012, max_delta_step=0,\n",
       "                               max_depth=6, min_child_weight=1, missing=nan,\n",
       "                               monotone_constraints='()', n_estimators=100,\n",
       "                               n_jobs=4, num_parallel_tree=1, random_state=0,\n",
       "                               reg_alpha=0, reg_lambda=1, scale_pos_weight=1,\n",
       "                               subsample=1, tree_method='exact',\n",
       "                               validate_parameters=1, verbosity=None))])"
      ]
     },
     "execution_count": 48,
     "metadata": {},
     "output_type": "execute_result"
    }
   ],
   "source": [
    "model = XGBClassifier()\n",
    "\n",
    "base_pipeline = Pipeline(\n",
    "    steps=[\n",
    "    ('values', values_union),\n",
    "    ('classifier', model)\n",
    "])\n",
    "\n",
    "# fit pipeline\n",
    "base_pipeline.fit(X_train, y_train)"
   ]
  },
  {
   "cell_type": "code",
   "execution_count": 49,
   "metadata": {
    "collapsed": true,
    "jupyter": {
     "outputs_hidden": true
    }
   },
   "outputs": [
    {
     "name": "stdout",
     "output_type": "stream",
     "text": [
      "Train accuracy: 1.0\n",
      "Test accuracy: 0.7621621621621621\n",
      "Train auc: 1.0\n",
      "Test auc: 0.7620979020979021\n",
      "Train precision: 1.0\n",
      "Test precision: 0.8307692307692308\n",
      "Train recall: 1.0\n",
      "Test recall: 0.8307692307692308\n",
      "F1 score train: 1.0\n",
      "F1 score test: 0.8307692307692308\n",
      "              precision    recall  f1-score   support\n",
      "\n",
      "           0       0.60      0.60      0.60        55\n",
      "           1       0.83      0.83      0.83       130\n",
      "\n",
      "    accuracy                           0.76       185\n",
      "   macro avg       0.72      0.72      0.72       185\n",
      "weighted avg       0.76      0.76      0.76       185\n",
      "\n"
     ]
    },
    {
     "data": {
      "image/png": "[encoded data removed]",
      "text/plain": [
       "<Figure size 432x288 with 2 Axes>"
      ]
     },
     "metadata": {
      "needs_background": "light"
     },
     "output_type": "display_data"
    },
    {
     "data": {
      "image/png": "[encoded data removed]",
      "text/plain": [
       "<Figure size 432x288 with 1 Axes>"
      ]
     },
     "metadata": {
      "needs_background": "light"
     },
     "output_type": "display_data"
    }
   ],
   "source": [
    "# predict and evaluate\n",
    "evaluate(base_pipeline, X_train, X_test, y_train, y_test)"
   ]
  },
  {
   "cell_type": "markdown",
   "metadata": {},
   "source": [
    "#### Gradient Boosting Classifier"
   ]
  },
  {
   "cell_type": "code",
   "execution_count": 51,
   "metadata": {
    "collapsed": true,
    "jupyter": {
     "outputs_hidden": true
    }
   },
   "outputs": [
    {
     "data": {
      "text/plain": [
       "Pipeline(steps=[('values',\n",
       "                 FeatureUnion(transformer_list=[('cat_cols',\n",
       "                                                 Pipeline(steps=[('credit',\n",
       "                                                                  FunctionTransformer(func=<function cr_obj at 0x7fdcc20c6ca0>)),\n",
       "                                                                 ('cats',\n",
       "                                                                  FunctionTransformer(func=<function catFeat at 0x7fdcc20c6f70>)),\n",
       "                                                                 ('cat_nulls',\n",
       "                                                                  SimpleImputer(fill_value='unknown',\n",
       "                                                                                strategy='constant')),\n",
       "                                                                 ('encode',\n",
       "                                                                  OneHotEncoder()),\n",
       "                                                                 ('densify',\n",
       "                                                                  <__main__.ToDenseT...\n",
       "                                                 Pipeline(steps=[('nums',\n",
       "                                                                  FunctionTransformer(func=<function numFeat at 0x7fdcc20c6ee0>)),\n",
       "                                                                 ('income',\n",
       "                                                                  FunctionTransformer(func=<function create_total at 0x7fdcc20e4040>)),\n",
       "                                                                 ('num_nulls',\n",
       "                                                                  SimpleImputer(strategy='median')),\n",
       "                                                                 ('transform',\n",
       "                                                                  FunctionTransformer(func=<function log_transform at 0x7fdcc20e40d0>)),\n",
       "                                                                 ('scale',\n",
       "                                                                  StandardScaler())]))])),\n",
       "                ('classifier', GradientBoostingClassifier())])"
      ]
     },
     "execution_count": 51,
     "metadata": {},
     "output_type": "execute_result"
    }
   ],
   "source": [
    "model = GradientBoostingClassifier()\n",
    "\n",
    "base_pipeline = Pipeline(\n",
    "    steps=[\n",
    "    ('values', values_union),\n",
    "    ('classifier', model)\n",
    "])\n",
    "\n",
    "# fit pipeline\n",
    "base_pipeline.fit(X_train, y_train)"
   ]
  },
  {
   "cell_type": "code",
   "execution_count": 52,
   "metadata": {
    "collapsed": true,
    "jupyter": {
     "outputs_hidden": true
    }
   },
   "outputs": [
    {
     "name": "stdout",
     "output_type": "stream",
     "text": [
      "Train accuracy: 0.9347319347319347\n",
      "Test accuracy: 0.8054054054054054\n",
      "Train auc: 0.988976102389761\n",
      "Test auc: 0.7793006993006993\n",
      "Train precision: 0.9125\n",
      "Test precision: 0.8405797101449275\n",
      "Train recall: 1.0\n",
      "Test recall: 0.8923076923076924\n",
      "F1 score train: 0.9542483660130718\n",
      "F1 score test: 0.8656716417910447\n",
      "              precision    recall  f1-score   support\n",
      "\n",
      "           0       0.70      0.60      0.65        55\n",
      "           1       0.84      0.89      0.87       130\n",
      "\n",
      "    accuracy                           0.81       185\n",
      "   macro avg       0.77      0.75      0.76       185\n",
      "weighted avg       0.80      0.81      0.80       185\n",
      "\n"
     ]
    },
    {
     "data": {
      "image/png": "[encoded data removed]",
      "text/plain": [
       "<Figure size 432x288 with 2 Axes>"
      ]
     },
     "metadata": {
      "needs_background": "light"
     },
     "output_type": "display_data"
    },
    {
     "data": {
      "image/png": "[encoded data removed]",
      "text/plain": [
       "<Figure size 432x288 with 1 Axes>"
      ]
     },
     "metadata": {
      "needs_background": "light"
     },
     "output_type": "display_data"
    }
   ],
   "source": [
    "# predict and evaluate\n",
    "evaluate(base_pipeline, X_train, X_test, y_train, y_test)"
   ]
  },
  {
   "cell_type": "markdown",
   "metadata": {},
   "source": [
    "Best performace with a non-ensemble model was SVC, we'll explore that further.\n",
    "<br>Ensemble methods tended to overfit, so we'll explore some parameter options to try and address it. We'll use Random Forest as it had the highest auc score.\n",
    "<br>We'll also try adding some feature selection to our pipeline to see if it helps performance"
   ]
  },
  {
   "cell_type": "markdown",
   "metadata": {},
   "source": [
    "### Feature Selection"
   ]
  },
  {
   "cell_type": "code",
   "execution_count": 66,
   "metadata": {},
   "outputs": [],
   "source": [
    "# create pca and kbest and merge with featureunion\n",
    "\n",
    "# can experiment with number of components in grid search if needed\n",
    "pca = PCA(n_components=5)\n",
    "kbest = SelectKBest(k=5)\n",
    "\n",
    "feature_union = FeatureUnion([\n",
    "    ('pca', pca),\n",
    "    ('select_best', kbest)\n",
    "])"
   ]
  },
  {
   "cell_type": "code",
   "execution_count": 67,
   "metadata": {
    "collapsed": true,
    "jupyter": {
     "outputs_hidden": true
    }
   },
   "outputs": [
    {
     "data": {
      "text/plain": [
       "Pipeline(steps=[('values',\n",
       "                 FeatureUnion(transformer_list=[('cat_cols',\n",
       "                                                 Pipeline(steps=[('credit',\n",
       "                                                                  FunctionTransformer(func=<function cr_obj at 0x7fdcc20c6ca0>)),\n",
       "                                                                 ('cats',\n",
       "                                                                  FunctionTransformer(func=<function catFeat at 0x7fdcc20c6f70>)),\n",
       "                                                                 ('cat_nulls',\n",
       "                                                                  SimpleImputer(fill_value='unknown',\n",
       "                                                                                strategy='constant')),\n",
       "                                                                 ('encode',\n",
       "                                                                  OneHotEncoder()),\n",
       "                                                                 ('densify',\n",
       "                                                                  <__main__.ToDenseT...\n",
       "                                                                  FunctionTransformer(func=<function create_total at 0x7fdcc20e4040>)),\n",
       "                                                                 ('num_nulls',\n",
       "                                                                  SimpleImputer(strategy='median')),\n",
       "                                                                 ('transform',\n",
       "                                                                  FunctionTransformer(func=<function log_transform at 0x7fdcc20e40d0>)),\n",
       "                                                                 ('scale',\n",
       "                                                                  StandardScaler())]))])),\n",
       "                ('features',\n",
       "                 FeatureUnion(transformer_list=[('pca', PCA(n_components=5)),\n",
       "                                                ('select_best',\n",
       "                                                 SelectKBest(k=5))])),\n",
       "                ('classifier', SVC(probability=True))])"
      ]
     },
     "execution_count": 67,
     "metadata": {},
     "output_type": "execute_result"
    }
   ],
   "source": [
    "# try SVC with feature selection\n",
    "model = SVC(probability=True)\n",
    "\n",
    "feat_pipeline = Pipeline(\n",
    "    steps=[\n",
    "    ('values', values_union),\n",
    "    ('features', feature_union),\n",
    "    ('classifier', model)\n",
    "])\n",
    "\n",
    "# fit pipeline\n",
    "feat_pipeline.fit(X_train, y_train)"
   ]
  },
  {
   "cell_type": "code",
   "execution_count": 68,
   "metadata": {
    "collapsed": true,
    "jupyter": {
     "outputs_hidden": true
    }
   },
   "outputs": [
    {
     "name": "stdout",
     "output_type": "stream",
     "text": [
      "Train accuracy: 0.8158508158508159\n",
      "Test accuracy: 0.827027027027027\n",
      "Train auc: 0.8744625537446256\n",
      "Test auc: 0.7741258741258741\n",
      "Train precision: 0.7901907356948229\n",
      "Test precision: 0.8181818181818182\n",
      "Train recall: 0.9931506849315068\n",
      "Test recall: 0.9692307692307692\n",
      "F1 score train: 0.8801213960546282\n",
      "F1 score test: 0.8873239436619719\n",
      "              precision    recall  f1-score   support\n",
      "\n",
      "           0       0.87      0.49      0.63        55\n",
      "           1       0.82      0.97      0.89       130\n",
      "\n",
      "    accuracy                           0.83       185\n",
      "   macro avg       0.84      0.73      0.76       185\n",
      "weighted avg       0.83      0.83      0.81       185\n",
      "\n"
     ]
    },
    {
     "data": {
      "image/png": "[encoded data removed]",
      "text/plain": [
       "<Figure size 432x288 with 2 Axes>"
      ]
     },
     "metadata": {
      "needs_background": "light"
     },
     "output_type": "display_data"
    },
    {
     "data": {
      "image/png": "[encoded data removed]",
      "text/plain": [
       "<Figure size 432x288 with 1 Axes>"
      ]
     },
     "metadata": {
      "needs_background": "light"
     },
     "output_type": "display_data"
    }
   ],
   "source": [
    "# predict and evaluate\n",
    "evaluate(feat_pipeline, X_train, X_test, y_train, y_test)"
   ]
  },
  {
   "cell_type": "markdown",
   "metadata": {},
   "source": [
    "Feature selection does not seem to improve performace in this case, so we'll move forward without it for now."
   ]
  },
  {
   "cell_type": "markdown",
   "metadata": {},
   "source": [
    "#### SVC Parameter tuning"
   ]
  },
  {
   "cell_type": "code",
   "execution_count": 82,
   "metadata": {
    "collapsed": true,
    "jupyter": {
     "outputs_hidden": true
    }
   },
   "outputs": [
    {
     "name": "stdout",
     "output_type": "stream",
     "text": [
      "Fitting 5 folds for each of 81 candidates, totalling 405 fits\n"
     ]
    },
    {
     "data": {
      "text/plain": [
       "GridSearchCV(cv=5,\n",
       "             estimator=Pipeline(steps=[('values',\n",
       "                                        FeatureUnion(transformer_list=[('cat_cols',\n",
       "                                                                        Pipeline(steps=[('credit',\n",
       "                                                                                         FunctionTransformer(func=<function cr_obj at 0x7fdcc20c6ca0>)),\n",
       "                                                                                        ('cats',\n",
       "                                                                                         FunctionTransformer(func=<function catFeat at 0x7fdcc20c6f70>)),\n",
       "                                                                                        ('cat_nulls',\n",
       "                                                                                         SimpleImputer(fill_value='unknown',\n",
       "                                                                                                       strategy='constant')),\n",
       "                                                                                        ('encode',\n",
       "                                                                                         OneHotEncoder()),\n",
       "                                                                                        (...\n",
       "                                                                                        ('transform',\n",
       "                                                                                         FunctionTransformer(func=<function log_transform at 0x7fdcc20e40d0>)),\n",
       "                                                                                        ('scale',\n",
       "                                                                                         StandardScaler())]))])),\n",
       "                                       ('classifier', SVC(probability=True))]),\n",
       "             param_grid={'classifier__C': [5, 7, 9],\n",
       "                         'classifier__degree': [2, 3, 4],\n",
       "                         'classifier__kernel': ['linear', 'poly', 'rbf'],\n",
       "                         'values__num_cols__scale': [StandardScaler(),\n",
       "                                                     RobustScaler(),\n",
       "                                                     QuantileTransformer()]},\n",
       "             verbose=1)"
      ]
     },
     "execution_count": 82,
     "metadata": {},
     "output_type": "execute_result"
    }
   ],
   "source": [
    "# use grid search to tune SVC parameters\n",
    "scalers_to_test = [StandardScaler(), RobustScaler(), QuantileTransformer()]\n",
    "\n",
    "model = SVC(probability=True)\n",
    "\n",
    "base_pipeline = Pipeline(\n",
    "    steps=[\n",
    "    ('values', values_union),\n",
    "    ('classifier', model)\n",
    "])\n",
    "\n",
    "params = {\n",
    "    'classifier__C': [5, 7, 9],\n",
    "    'classifier__kernel': ['linear', 'poly', 'rbf'],\n",
    "    'classifier__degree': [2,3,4],\n",
    "    'classifier__random_state': [23]\n",
    "    'values__num_cols__scale': scalers_to_test\n",
    "    }\n",
    "\n",
    "k_folds = 5\n",
    "\n",
    "grid_search = GridSearchCV(base_pipeline, param_grid=params, verbose=1, refit=True, cv=k_folds)\n",
    "\n",
    "# fit\n",
    "grid_search.fit(X_train, y_train)"
   ]
  },
  {
   "cell_type": "code",
   "execution_count": 83,
   "metadata": {},
   "outputs": [
    {
     "name": "stdout",
     "output_type": "stream",
     "text": [
      "{'classifier__C': 5, 'classifier__degree': 2, 'classifier__kernel': 'linear', 'values__num_cols__scale': StandardScaler()}\n"
     ]
    }
   ],
   "source": [
    "print(grid_search.best_params_)\n",
    "cl = grid_search.best_estimator_"
   ]
  },
  {
   "cell_type": "code",
   "execution_count": 85,
   "metadata": {},
   "outputs": [
    {
     "name": "stdout",
     "output_type": "stream",
     "text": [
      "Train accuracy: 0.8018648018648019\n",
      "Test accuracy: 0.827027027027027\n",
      "Train auc: 0.767073292670733\n",
      "Test auc: 0.773006993006993\n",
      "Train precision: 0.7789757412398922\n",
      "Test precision: 0.8181818181818182\n",
      "Train recall: 0.9897260273972602\n",
      "Test recall: 0.9692307692307692\n",
      "F1 score train: 0.8717948717948718\n",
      "F1 score test: 0.8873239436619719\n",
      "              precision    recall  f1-score   support\n",
      "\n",
      "           0       0.87      0.49      0.63        55\n",
      "           1       0.82      0.97      0.89       130\n",
      "\n",
      "    accuracy                           0.83       185\n",
      "   macro avg       0.84      0.73      0.76       185\n",
      "weighted avg       0.83      0.83      0.81       185\n",
      "\n"
     ]
    },
    {
     "data": {
      "image/png": "[encoded data removed]",
      "text/plain": [
       "<Figure size 432x288 with 2 Axes>"
      ]
     },
     "metadata": {
      "needs_background": "light"
     },
     "output_type": "display_data"
    },
    {
     "data": {
      "image/png": "[encoded data removed]",
      "text/plain": [
       "<Figure size 432x288 with 1 Axes>"
      ]
     },
     "metadata": {
      "needs_background": "light"
     },
     "output_type": "display_data"
    }
   ],
   "source": [
    "# predict and evaluate\n",
    "evaluate(cl, X_train, X_test, y_train, y_test)"
   ]
  },
  {
   "cell_type": "markdown",
   "metadata": {},
   "source": [
    "#### Random Forest parameter tuning"
   ]
  },
  {
   "cell_type": "code",
   "execution_count": 86,
   "metadata": {
    "collapsed": true,
    "jupyter": {
     "outputs_hidden": true
    }
   },
   "outputs": [
    {
     "name": "stdout",
     "output_type": "stream",
     "text": [
      "Fitting 5 folds for each of 36 candidates, totalling 180 fits\n"
     ]
    },
    {
     "data": {
      "text/plain": [
       "GridSearchCV(cv=5,\n",
       "             estimator=Pipeline(steps=[('values',\n",
       "                                        FeatureUnion(transformer_list=[('cat_cols',\n",
       "                                                                        Pipeline(steps=[('credit',\n",
       "                                                                                         FunctionTransformer(func=<function cr_obj at 0x7fdcc20c6ca0>)),\n",
       "                                                                                        ('cats',\n",
       "                                                                                         FunctionTransformer(func=<function catFeat at 0x7fdcc20c6f70>)),\n",
       "                                                                                        ('cat_nulls',\n",
       "                                                                                         SimpleImputer(fill_value='unknown',\n",
       "                                                                                                       strategy='constant')),\n",
       "                                                                                        ('encode',\n",
       "                                                                                         OneHotEncoder()),\n",
       "                                                                                        (...\n",
       "                                                                                         FunctionTransformer(func=<function log_transform at 0x7fdcc20e40d0>)),\n",
       "                                                                                        ('scale',\n",
       "                                                                                         StandardScaler())]))])),\n",
       "                                       ('classifier',\n",
       "                                        RandomForestClassifier())]),\n",
       "             param_grid={'classifier__max_depth': [3, 4, 5],\n",
       "                         'classifier__n_estimators': [15, 25, 50, 100],\n",
       "                         'classifier__random_state': [23],\n",
       "                         'values__num_cols__scale': [StandardScaler(),\n",
       "                                                     RobustScaler(),\n",
       "                                                     QuantileTransformer()]},\n",
       "             verbose=1)"
      ]
     },
     "execution_count": 86,
     "metadata": {},
     "output_type": "execute_result"
    }
   ],
   "source": [
    "model = RandomForestClassifier()\n",
    "\n",
    "base_pipeline = Pipeline(\n",
    "    steps=[\n",
    "    ('values', values_union),\n",
    "    ('classifier', model)\n",
    "])\n",
    "\n",
    "params = {\n",
    "    'classifier__n_estimators': [15, 25, 50, 100],\n",
    "    'classifier__max_depth': [3,4, 5],\n",
    "    'classifier__random_state': [23],\n",
    "    'values__num_cols__scale': scalers_to_test\n",
    "    }\n",
    "\n",
    "k_folds = 5\n",
    "\n",
    "grid_search = GridSearchCV(base_pipeline, param_grid=params, verbose=1, refit=True, cv=k_folds)\n",
    "\n",
    "# fit\n",
    "grid_search.fit(X_train, y_train)"
   ]
  },
  {
   "cell_type": "code",
   "execution_count": 87,
   "metadata": {},
   "outputs": [
    {
     "name": "stdout",
     "output_type": "stream",
     "text": [
      "{'classifier__max_depth': 3, 'classifier__n_estimators': 15, 'classifier__random_state': 23, 'values__num_cols__scale': StandardScaler()}\n"
     ]
    }
   ],
   "source": [
    "print(grid_search.best_params_)\n",
    "cl = grid_search.best_estimator_"
   ]
  },
  {
   "cell_type": "code",
   "execution_count": 88,
   "metadata": {
    "collapsed": true,
    "jupyter": {
     "outputs_hidden": true
    }
   },
   "outputs": [
    {
     "name": "stdout",
     "output_type": "stream",
     "text": [
      "Train accuracy: 0.7925407925407926\n",
      "Test accuracy: 0.7891891891891892\n",
      "Train auc: 0.8614388561143885\n",
      "Test auc: 0.7866433566433566\n",
      "Train precision: 0.7678100263852242\n",
      "Test precision: 0.782608695652174\n",
      "Train recall: 0.9965753424657534\n",
      "Test recall: 0.9692307692307692\n",
      "F1 score train: 0.8673621460506706\n",
      "F1 score test: 0.865979381443299\n",
      "              precision    recall  f1-score   support\n",
      "\n",
      "           0       0.83      0.36      0.51        55\n",
      "           1       0.78      0.97      0.87       130\n",
      "\n",
      "    accuracy                           0.79       185\n",
      "   macro avg       0.81      0.67      0.69       185\n",
      "weighted avg       0.80      0.79      0.76       185\n",
      "\n"
     ]
    },
    {
     "data": {
      "image/png": "[encoded data removed]",
      "text/plain": [
       "<Figure size 432x288 with 2 Axes>"
      ]
     },
     "metadata": {
      "needs_background": "light"
     },
     "output_type": "display_data"
    },
    {
     "data": {
      "image/png": "[encoded data removed]",
      "text/plain": [
       "<Figure size 432x288 with 1 Axes>"
      ]
     },
     "metadata": {
      "needs_background": "light"
     },
     "output_type": "display_data"
    }
   ],
   "source": [
    "# predict and evaluate\n",
    "evaluate(cl, X_train, X_test, y_train, y_test)"
   ]
  },
  {
   "cell_type": "markdown",
   "metadata": {},
   "source": [
    "We were able to address overfitting in the Random Forest model, but still get slightly better performance with SVC"
   ]
  },
  {
   "cell_type": "markdown",
   "metadata": {},
   "source": [
    "#### Balanced dataset"
   ]
  },
  {
   "cell_type": "code",
   "execution_count": 93,
   "metadata": {},
   "outputs": [],
   "source": [
    "# assign balanced X and y\n",
    "BX = Bdf.drop(labels=['Loan_Status'], axis=1)\n",
    "By = Bdf['Loan_Status']\n",
    "\n",
    "# encode y (1=approved)\n",
    "label = LabelEncoder()\n",
    "By = label.fit_transform(By)\n",
    "\n",
    "# create balanced test train split\n",
    "BX_train, BX_test, By_train, By_test = train_test_split(BX, By, test_size=0.3, random_state=21)"
   ]
  },
  {
   "cell_type": "code",
   "execution_count": 99,
   "metadata": {
    "collapsed": true,
    "jupyter": {
     "outputs_hidden": true
    }
   },
   "outputs": [
    {
     "data": {
      "text/plain": [
       "Pipeline(steps=[('values',\n",
       "                 FeatureUnion(transformer_list=[('cat_cols',\n",
       "                                                 Pipeline(steps=[('credit',\n",
       "                                                                  FunctionTransformer(func=<function cr_obj at 0x7fdcc20c6ca0>)),\n",
       "                                                                 ('cats',\n",
       "                                                                  FunctionTransformer(func=<function catFeat at 0x7fdcc20c6f70>)),\n",
       "                                                                 ('cat_nulls',\n",
       "                                                                  SimpleImputer(fill_value='unknown',\n",
       "                                                                                strategy='constant')),\n",
       "                                                                 ('encode',\n",
       "                                                                  OneHotEncoder()),\n",
       "                                                                 ('densify',\n",
       "                                                                  <__main__.ToDenseT...\n",
       "                                                                  FunctionTransformer(func=<function numFeat at 0x7fdcc20c6ee0>)),\n",
       "                                                                 ('income',\n",
       "                                                                  FunctionTransformer(func=<function create_total at 0x7fdcc20e4040>)),\n",
       "                                                                 ('num_nulls',\n",
       "                                                                  SimpleImputer(strategy='median')),\n",
       "                                                                 ('transform',\n",
       "                                                                  FunctionTransformer(func=<function log_transform at 0x7fdcc20e40d0>)),\n",
       "                                                                 ('scale',\n",
       "                                                                  StandardScaler())]))])),\n",
       "                ('classifier', SVC(C=5, kernel='linear', probability=True))])"
      ]
     },
     "execution_count": 99,
     "metadata": {},
     "output_type": "execute_result"
    }
   ],
   "source": [
    "# SVC, with parameters from grid search\n",
    "model = SVC(probability=True, kernel='linear', C=5)\n",
    "\n",
    "tuned_pipeline = Pipeline(\n",
    "    steps=[\n",
    "    ('values', values_union),\n",
    "    ('classifier', model)\n",
    "])\n",
    "\n",
    "# fit pipeline\n",
    "tuned_pipeline.fit(BX_train, By_train)"
   ]
  },
  {
   "cell_type": "code",
   "execution_count": 100,
   "metadata": {},
   "outputs": [
    {
     "name": "stdout",
     "output_type": "stream",
     "text": [
      "Train accuracy: 0.7338983050847457\n",
      "Test accuracy: 0.7637795275590551\n",
      "Train auc: 0.7734569816481078\n",
      "Test auc: 0.788093023255814\n",
      "Train precision: 0.6674876847290641\n",
      "Test precision: 0.7017543859649122\n",
      "Train recall: 0.9249146757679181\n",
      "Test recall: 0.9302325581395349\n",
      "F1 score train: 0.7753934191702432\n",
      "F1 score test: 0.8\n",
      "              precision    recall  f1-score   support\n",
      "\n",
      "           0       0.89      0.59      0.71       125\n",
      "           1       0.70      0.93      0.80       129\n",
      "\n",
      "    accuracy                           0.76       254\n",
      "   macro avg       0.80      0.76      0.76       254\n",
      "weighted avg       0.80      0.76      0.76       254\n",
      "\n"
     ]
    },
    {
     "data": {
      "image/png": "[encoded data removed]",
      "text/plain": [
       "<Figure size 432x288 with 2 Axes>"
      ]
     },
     "metadata": {
      "needs_background": "light"
     },
     "output_type": "display_data"
    },
    {
     "data": {
      "image/png": "[encoded data removed]",
      "text/plain": [
       "<Figure size 432x288 with 1 Axes>"
      ]
     },
     "metadata": {
      "needs_background": "light"
     },
     "output_type": "display_data"
    }
   ],
   "source": [
    "# predict and evaluate\n",
    "evaluate(tuned_pipeline, BX_train, BX_test, By_train, By_test)"
   ]
  },
  {
   "cell_type": "code",
   "execution_count": 96,
   "metadata": {
    "collapsed": true,
    "jupyter": {
     "outputs_hidden": true
    }
   },
   "outputs": [
    {
     "data": {
      "text/plain": [
       "Pipeline(steps=[('values',\n",
       "                 FeatureUnion(transformer_list=[('cat_cols',\n",
       "                                                 Pipeline(steps=[('credit',\n",
       "                                                                  FunctionTransformer(func=<function cr_obj at 0x7fdcc20c6ca0>)),\n",
       "                                                                 ('cats',\n",
       "                                                                  FunctionTransformer(func=<function catFeat at 0x7fdcc20c6f70>)),\n",
       "                                                                 ('cat_nulls',\n",
       "                                                                  SimpleImputer(fill_value='unknown',\n",
       "                                                                                strategy='constant')),\n",
       "                                                                 ('encode',\n",
       "                                                                  OneHotEncoder()),\n",
       "                                                                 ('densify',\n",
       "                                                                  <__main__.ToDenseT...\n",
       "                                                                  FunctionTransformer(func=<function numFeat at 0x7fdcc20c6ee0>)),\n",
       "                                                                 ('income',\n",
       "                                                                  FunctionTransformer(func=<function create_total at 0x7fdcc20e4040>)),\n",
       "                                                                 ('num_nulls',\n",
       "                                                                  SimpleImputer(strategy='median')),\n",
       "                                                                 ('transform',\n",
       "                                                                  FunctionTransformer(func=<function log_transform at 0x7fdcc20e40d0>)),\n",
       "                                                                 ('scale',\n",
       "                                                                  StandardScaler())]))])),\n",
       "                ('classifier',\n",
       "                 RandomForestClassifier(max_depth=3, n_estimators=15))])"
      ]
     },
     "execution_count": 96,
     "metadata": {},
     "output_type": "execute_result"
    }
   ],
   "source": [
    "# RandomForest with balanced dataset\n",
    "model = RandomForestClassifier(n_estimators=15, max_depth=3)\n",
    "\n",
    "tuned_pipeline = Pipeline(\n",
    "    steps=[\n",
    "    ('values', values_union),\n",
    "    ('classifier', model)\n",
    "])\n",
    "\n",
    "# fit pipeline\n",
    "tuned_pipeline.fit(BX_train, By_train)"
   ]
  },
  {
   "cell_type": "code",
   "execution_count": 97,
   "metadata": {
    "collapsed": true,
    "jupyter": {
     "outputs_hidden": true
    }
   },
   "outputs": [
    {
     "name": "stdout",
     "output_type": "stream",
     "text": [
      "Train accuracy: 0.7491525423728813\n",
      "Test accuracy: 0.7559055118110236\n",
      "Train auc: 0.8647223084083152\n",
      "Test auc: 0.8211782945736434\n",
      "Train precision: 0.6772616136919315\n",
      "Test precision: 0.6914285714285714\n",
      "Train recall: 0.9453924914675768\n",
      "Test recall: 0.937984496124031\n",
      "F1 score train: 0.7891737891737891\n",
      "F1 score test: 0.7960526315789473\n",
      "              precision    recall  f1-score   support\n",
      "\n",
      "           0       0.90      0.57      0.70       125\n",
      "           1       0.69      0.94      0.80       129\n",
      "\n",
      "    accuracy                           0.76       254\n",
      "   macro avg       0.80      0.75      0.75       254\n",
      "weighted avg       0.79      0.76      0.75       254\n",
      "\n"
     ]
    },
    {
     "data": {
      "image/png": "[encoded data removed]",
      "text/plain": [
       "<Figure size 432x288 with 2 Axes>"
      ]
     },
     "metadata": {
      "needs_background": "light"
     },
     "output_type": "display_data"
    },
    {
     "data": {
      "image/png": "[encoded data removed]",
      "text/plain": [
       "<Figure size 432x288 with 1 Axes>"
      ]
     },
     "metadata": {
      "needs_background": "light"
     },
     "output_type": "display_data"
    }
   ],
   "source": [
    "# predict and evaluate\n",
    "evaluate(tuned_pipeline, BX_train, BX_test, By_train, By_test)"
   ]
  },
  {
   "cell_type": "markdown",
   "metadata": {},
   "source": [
    "#### Model Selection\n",
    "\n",
    "In this case we'll choose the SVC model on the unbalanced dataset. Although modelling with the balanced dataset led to better classifaction of the '0' label (not approved), training with an unbalanced dataset led to slightly better classification of the '1' label (approved).\n",
    "\n",
    "In this case we assumed the goal of such a prediction tool would be for the initial screening of applications, and applicants who proceeded past this first step would be further evaluated for loan suitability. In this scenario, a lender would want to avoid misclassifying eligible applicants (and thus losing business), while still filtering out unsuitable applicants. If our model were used approximately 50% of unsuitable applicants would be identified during the screening, and only 3% of eligible applicants would be incorrectly screened out."
   ]
  },
  {
   "cell_type": "code",
   "execution_count": 101,
   "metadata": {
    "collapsed": true,
    "jupyter": {
     "outputs_hidden": true
    }
   },
   "outputs": [
    {
     "data": {
      "text/plain": [
       "Pipeline(steps=[('values',\n",
       "                 FeatureUnion(transformer_list=[('cat_cols',\n",
       "                                                 Pipeline(steps=[('credit',\n",
       "                                                                  FunctionTransformer(func=<function cr_obj at 0x7fdcc20c6ca0>)),\n",
       "                                                                 ('cats',\n",
       "                                                                  FunctionTransformer(func=<function catFeat at 0x7fdcc20c6f70>)),\n",
       "                                                                 ('cat_nulls',\n",
       "                                                                  SimpleImputer(fill_value='unknown',\n",
       "                                                                                strategy='constant')),\n",
       "                                                                 ('encode',\n",
       "                                                                  OneHotEncoder()),\n",
       "                                                                 ('densify',\n",
       "                                                                  <__main__.ToDenseT...\n",
       "                                                                  FunctionTransformer(func=<function numFeat at 0x7fdcc20c6ee0>)),\n",
       "                                                                 ('income',\n",
       "                                                                  FunctionTransformer(func=<function create_total at 0x7fdcc20e4040>)),\n",
       "                                                                 ('num_nulls',\n",
       "                                                                  SimpleImputer(strategy='median')),\n",
       "                                                                 ('transform',\n",
       "                                                                  FunctionTransformer(func=<function log_transform at 0x7fdcc20e40d0>)),\n",
       "                                                                 ('scale',\n",
       "                                                                  StandardScaler())]))])),\n",
       "                ('classifier', SVC(C=5, kernel='linear', probability=True))])"
      ]
     },
     "execution_count": 101,
     "metadata": {},
     "output_type": "execute_result"
    }
   ],
   "source": [
    "# train final model\n",
    "# SVC, with parameters from grid search\n",
    "model = SVC(probability=True, kernel='linear', C=5)\n",
    "\n",
    "tuned_pipeline = Pipeline(\n",
    "    steps=[\n",
    "    ('values', values_union),\n",
    "    ('classifier', model)\n",
    "])\n",
    "\n",
    "# fit pipeline on unbalanced dataset\n",
    "tuned_pipeline.fit(X_train, y_train)"
   ]
  },
  {
   "cell_type": "code",
   "execution_count": 102,
   "metadata": {
    "collapsed": true,
    "jupyter": {
     "outputs_hidden": true
    }
   },
   "outputs": [
    {
     "name": "stdout",
     "output_type": "stream",
     "text": [
      "Train accuracy: 0.8018648018648019\n",
      "Test accuracy: 0.827027027027027\n",
      "Train auc: 0.767073292670733\n",
      "Test auc: 0.773006993006993\n",
      "Train precision: 0.7789757412398922\n",
      "Test precision: 0.8181818181818182\n",
      "Train recall: 0.9897260273972602\n",
      "Test recall: 0.9692307692307692\n",
      "F1 score train: 0.8717948717948718\n",
      "F1 score test: 0.8873239436619719\n",
      "              precision    recall  f1-score   support\n",
      "\n",
      "           0       0.87      0.49      0.63        55\n",
      "           1       0.82      0.97      0.89       130\n",
      "\n",
      "    accuracy                           0.83       185\n",
      "   macro avg       0.84      0.73      0.76       185\n",
      "weighted avg       0.83      0.83      0.81       185\n",
      "\n"
     ]
    },
    {
     "data": {
      "image/png": "[encoded data removed]",
      "text/plain": [
       "<Figure size 432x288 with 2 Axes>"
      ]
     },
     "metadata": {
      "needs_background": "light"
     },
     "output_type": "display_data"
    },
    {
     "data": {
      "image/png": "[encoded data removed]",
      "text/plain": [
       "<Figure size 432x288 with 1 Axes>"
      ]
     },
     "metadata": {
      "needs_background": "light"
     },
     "output_type": "display_data"
    }
   ],
   "source": [
    "# double check results\n",
    "evaluate(tuned_pipeline, X_train, X_test, y_train, y_test)"
   ]
  },
  {
   "cell_type": "code",
   "execution_count": 104,
   "metadata": {},
   "outputs": [
    {
     "data": {
      "text/html": [
       "<style>div.sk-top-container {color: black;background-color: white;}div.sk-toggleable {background-color: white;}label.sk-toggleable__label {cursor: pointer;display: block;width: 100%;margin-bottom: 0;padding: 0.2em 0.3em;box-sizing: border-box;text-align: center;}div.sk-toggleable__content {max-height: 0;max-width: 0;overflow: hidden;text-align: left;background-color: #f0f8ff;}div.sk-toggleable__content pre {margin: 0.2em;color: black;border-radius: 0.25em;background-color: #f0f8ff;}input.sk-toggleable__control:checked~div.sk-toggleable__content {max-height: 200px;max-width: 100%;overflow: auto;}div.sk-estimator input.sk-toggleable__control:checked~label.sk-toggleable__label {background-color: #d4ebff;}div.sk-label input.sk-toggleable__control:checked~label.sk-toggleable__label {background-color: #d4ebff;}input.sk-hidden--visually {border: 0;clip: rect(1px 1px 1px 1px);clip: rect(1px, 1px, 1px, 1px);height: 1px;margin: -1px;overflow: hidden;padding: 0;position: absolute;width: 1px;}div.sk-estimator {font-family: monospace;background-color: #f0f8ff;margin: 0.25em 0.25em;border: 1px dotted black;border-radius: 0.25em;box-sizing: border-box;}div.sk-estimator:hover {background-color: #d4ebff;}div.sk-parallel-item::after {content: \"\";width: 100%;border-bottom: 1px solid gray;flex-grow: 1;}div.sk-label:hover label.sk-toggleable__label {background-color: #d4ebff;}div.sk-serial::before {content: \"\";position: absolute;border-left: 1px solid gray;box-sizing: border-box;top: 2em;bottom: 0;left: 50%;}div.sk-serial {display: flex;flex-direction: column;align-items: center;background-color: white;}div.sk-item {z-index: 1;}div.sk-parallel {display: flex;align-items: stretch;justify-content: center;background-color: white;}div.sk-parallel-item {display: flex;flex-direction: column;position: relative;background-color: white;}div.sk-parallel-item:first-child::after {align-self: flex-end;width: 50%;}div.sk-parallel-item:last-child::after {align-self: flex-start;width: 50%;}div.sk-parallel-item:only-child::after {width: 0;}div.sk-dashed-wrapped {border: 1px dashed gray;margin: 0.2em;box-sizing: border-box;padding-bottom: 0.1em;background-color: white;position: relative;}div.sk-label label {font-family: monospace;font-weight: bold;background-color: white;display: inline-block;line-height: 1.2em;}div.sk-label-container {position: relative;z-index: 2;text-align: center;}div.sk-container {display: inline-block;position: relative;}</style><div class=\"sk-top-container\"><div class=\"sk-container\"><div class=\"sk-item sk-dashed-wrapped\"><div class=\"sk-label-container\"><div class=\"sk-label sk-toggleable\"><input class=\"sk-toggleable__control sk-hidden--visually\" id=\"7e9cd151-62b9-4084-b2d8-0c820f6c5242\" type=\"checkbox\" ><label class=\"sk-toggleable__label\" for=\"7e9cd151-62b9-4084-b2d8-0c820f6c5242\">Pipeline</label><div class=\"sk-toggleable__content\"><pre>Pipeline(steps=[('values',\n",
       "                 FeatureUnion(transformer_list=[('cat_cols',\n",
       "                                                 Pipeline(steps=[('credit',\n",
       "                                                                  FunctionTransformer(func=<function cr_obj at 0x7fdcc20c6ca0>)),\n",
       "                                                                 ('cats',\n",
       "                                                                  FunctionTransformer(func=<function catFeat at 0x7fdcc20c6f70>)),\n",
       "                                                                 ('cat_nulls',\n",
       "                                                                  SimpleImputer(fill_value='unknown',\n",
       "                                                                                strategy='constant')),\n",
       "                                                                 ('encode',\n",
       "                                                                  OneHotEncoder()),\n",
       "                                                                 ('densify',\n",
       "                                                                  <__main__.ToDenseT...\n",
       "                                                                  FunctionTransformer(func=<function numFeat at 0x7fdcc20c6ee0>)),\n",
       "                                                                 ('income',\n",
       "                                                                  FunctionTransformer(func=<function create_total at 0x7fdcc20e4040>)),\n",
       "                                                                 ('num_nulls',\n",
       "                                                                  SimpleImputer(strategy='median')),\n",
       "                                                                 ('transform',\n",
       "                                                                  FunctionTransformer(func=<function log_transform at 0x7fdcc20e40d0>)),\n",
       "                                                                 ('scale',\n",
       "                                                                  StandardScaler())]))])),\n",
       "                ('classifier', SVC(C=5, kernel='linear', probability=True))])</pre></div></div></div><div class=\"sk-serial\"><div class=\"sk-item sk-dashed-wrapped\"><div class=\"sk-label-container\"><div class=\"sk-label sk-toggleable\"><input class=\"sk-toggleable__control sk-hidden--visually\" id=\"89b13129-41b6-4e29-bed5-42ce6a3defa0\" type=\"checkbox\" ><label class=\"sk-toggleable__label\" for=\"89b13129-41b6-4e29-bed5-42ce6a3defa0\">values: FeatureUnion</label><div class=\"sk-toggleable__content\"><pre>FeatureUnion(transformer_list=[('cat_cols',\n",
       "                                Pipeline(steps=[('credit',\n",
       "                                                 FunctionTransformer(func=<function cr_obj at 0x7fdcc20c6ca0>)),\n",
       "                                                ('cats',\n",
       "                                                 FunctionTransformer(func=<function catFeat at 0x7fdcc20c6f70>)),\n",
       "                                                ('cat_nulls',\n",
       "                                                 SimpleImputer(fill_value='unknown',\n",
       "                                                               strategy='constant')),\n",
       "                                                ('encode', OneHotEncoder()),\n",
       "                                                ('densify',\n",
       "                                                 <__main__.ToDenseTransformer object at 0x7fdcc20f7dc0>)])),\n",
       "                               ('num_cols',\n",
       "                                Pipeline(steps=[('nums',\n",
       "                                                 FunctionTransformer(func=<function numFeat at 0x7fdcc20c6ee0>)),\n",
       "                                                ('income',\n",
       "                                                 FunctionTransformer(func=<function create_total at 0x7fdcc20e4040>)),\n",
       "                                                ('num_nulls',\n",
       "                                                 SimpleImputer(strategy='median')),\n",
       "                                                ('transform',\n",
       "                                                 FunctionTransformer(func=<function log_transform at 0x7fdcc20e40d0>)),\n",
       "                                                ('scale', StandardScaler())]))])</pre></div></div></div><div class=\"sk-parallel\"><div class=\"sk-parallel-item\"><div class=\"sk-item\"><div class=\"sk-label-container\"><div class=\"sk-label sk-toggleable\"><label>cat_cols</label></div></div><div class=\"sk-serial\"><div class=\"sk-item\"><div class=\"sk-serial\"><div class=\"sk-item\"><div class=\"sk-estimator sk-toggleable\"><input class=\"sk-toggleable__control sk-hidden--visually\" id=\"51f328dd-7248-43b5-86d3-03d0f0395dac\" type=\"checkbox\" ><label class=\"sk-toggleable__label\" for=\"51f328dd-7248-43b5-86d3-03d0f0395dac\">FunctionTransformer</label><div class=\"sk-toggleable__content\"><pre>FunctionTransformer(func=<function cr_obj at 0x7fdcc20c6ca0>)</pre></div></div></div><div class=\"sk-item\"><div class=\"sk-estimator sk-toggleable\"><input class=\"sk-toggleable__control sk-hidden--visually\" id=\"8c3f52e7-b8fa-4e9c-a4d1-7b4a93be83b4\" type=\"checkbox\" ><label class=\"sk-toggleable__label\" for=\"8c3f52e7-b8fa-4e9c-a4d1-7b4a93be83b4\">FunctionTransformer</label><div class=\"sk-toggleable__content\"><pre>FunctionTransformer(func=<function catFeat at 0x7fdcc20c6f70>)</pre></div></div></div><div class=\"sk-item\"><div class=\"sk-estimator sk-toggleable\"><input class=\"sk-toggleable__control sk-hidden--visually\" id=\"634deef8-53ad-4502-9f77-e1b7d5dff571\" type=\"checkbox\" ><label class=\"sk-toggleable__label\" for=\"634deef8-53ad-4502-9f77-e1b7d5dff571\">SimpleImputer</label><div class=\"sk-toggleable__content\"><pre>SimpleImputer(fill_value='unknown', strategy='constant')</pre></div></div></div><div class=\"sk-item\"><div class=\"sk-estimator sk-toggleable\"><input class=\"sk-toggleable__control sk-hidden--visually\" id=\"5cfcb594-8cd7-44e3-b4df-316fadea88ed\" type=\"checkbox\" ><label class=\"sk-toggleable__label\" for=\"5cfcb594-8cd7-44e3-b4df-316fadea88ed\">OneHotEncoder</label><div class=\"sk-toggleable__content\"><pre>OneHotEncoder()</pre></div></div></div><div class=\"sk-item\"><div class=\"sk-estimator sk-toggleable\"><input class=\"sk-toggleable__control sk-hidden--visually\" id=\"14c544e6-2269-4a66-bf8e-2b06828cac7d\" type=\"checkbox\" ><label class=\"sk-toggleable__label\" for=\"14c544e6-2269-4a66-bf8e-2b06828cac7d\">ToDenseTransformer</label><div class=\"sk-toggleable__content\"><pre><__main__.ToDenseTransformer object at 0x7fdcc20f7dc0></pre></div></div></div></div></div></div></div></div><div class=\"sk-parallel-item\"><div class=\"sk-item\"><div class=\"sk-label-container\"><div class=\"sk-label sk-toggleable\"><label>num_cols</label></div></div><div class=\"sk-serial\"><div class=\"sk-item\"><div class=\"sk-serial\"><div class=\"sk-item\"><div class=\"sk-estimator sk-toggleable\"><input class=\"sk-toggleable__control sk-hidden--visually\" id=\"e5ec6331-f95a-4fa7-8072-03b4f7d48141\" type=\"checkbox\" ><label class=\"sk-toggleable__label\" for=\"e5ec6331-f95a-4fa7-8072-03b4f7d48141\">FunctionTransformer</label><div class=\"sk-toggleable__content\"><pre>FunctionTransformer(func=<function numFeat at 0x7fdcc20c6ee0>)</pre></div></div></div><div class=\"sk-item\"><div class=\"sk-estimator sk-toggleable\"><input class=\"sk-toggleable__control sk-hidden--visually\" id=\"94bb6422-674d-46b3-9d2f-4bdc46d787a2\" type=\"checkbox\" ><label class=\"sk-toggleable__label\" for=\"94bb6422-674d-46b3-9d2f-4bdc46d787a2\">FunctionTransformer</label><div class=\"sk-toggleable__content\"><pre>FunctionTransformer(func=<function create_total at 0x7fdcc20e4040>)</pre></div></div></div><div class=\"sk-item\"><div class=\"sk-estimator sk-toggleable\"><input class=\"sk-toggleable__control sk-hidden--visually\" id=\"4966b94e-3c10-44ed-8d7e-d1e30092309e\" type=\"checkbox\" ><label class=\"sk-toggleable__label\" for=\"4966b94e-3c10-44ed-8d7e-d1e30092309e\">SimpleImputer</label><div class=\"sk-toggleable__content\"><pre>SimpleImputer(strategy='median')</pre></div></div></div><div class=\"sk-item\"><div class=\"sk-estimator sk-toggleable\"><input class=\"sk-toggleable__control sk-hidden--visually\" id=\"053a09ed-8a78-4f48-adf4-1ce09e78c2d0\" type=\"checkbox\" ><label class=\"sk-toggleable__label\" for=\"053a09ed-8a78-4f48-adf4-1ce09e78c2d0\">FunctionTransformer</label><div class=\"sk-toggleable__content\"><pre>FunctionTransformer(func=<function log_transform at 0x7fdcc20e40d0>)</pre></div></div></div><div class=\"sk-item\"><div class=\"sk-estimator sk-toggleable\"><input class=\"sk-toggleable__control sk-hidden--visually\" id=\"938c9b7a-31f9-4083-aa20-70629467d222\" type=\"checkbox\" ><label class=\"sk-toggleable__label\" for=\"938c9b7a-31f9-4083-aa20-70629467d222\">StandardScaler</label><div class=\"sk-toggleable__content\"><pre>StandardScaler()</pre></div></div></div></div></div></div></div></div></div></div><div class=\"sk-item\"><div class=\"sk-estimator sk-toggleable\"><input class=\"sk-toggleable__control sk-hidden--visually\" id=\"6c335018-1749-4e75-ac23-6882f29692bb\" type=\"checkbox\" ><label class=\"sk-toggleable__label\" for=\"6c335018-1749-4e75-ac23-6882f29692bb\">SVC</label><div class=\"sk-toggleable__content\"><pre>SVC(C=5, kernel='linear', probability=True)</pre></div></div></div></div></div></div></div>"
      ],
      "text/plain": [
       "Pipeline(steps=[('values',\n",
       "                 FeatureUnion(transformer_list=[('cat_cols',\n",
       "                                                 Pipeline(steps=[('credit',\n",
       "                                                                  FunctionTransformer(func=<function cr_obj at 0x7fdcc20c6ca0>)),\n",
       "                                                                 ('cats',\n",
       "                                                                  FunctionTransformer(func=<function catFeat at 0x7fdcc20c6f70>)),\n",
       "                                                                 ('cat_nulls',\n",
       "                                                                  SimpleImputer(fill_value='unknown',\n",
       "                                                                                strategy='constant')),\n",
       "                                                                 ('encode',\n",
       "                                                                  OneHotEncoder()),\n",
       "                                                                 ('densify',\n",
       "                                                                  <__main__.ToDenseT...\n",
       "                                                                  FunctionTransformer(func=<function numFeat at 0x7fdcc20c6ee0>)),\n",
       "                                                                 ('income',\n",
       "                                                                  FunctionTransformer(func=<function create_total at 0x7fdcc20e4040>)),\n",
       "                                                                 ('num_nulls',\n",
       "                                                                  SimpleImputer(strategy='median')),\n",
       "                                                                 ('transform',\n",
       "                                                                  FunctionTransformer(func=<function log_transform at 0x7fdcc20e40d0>)),\n",
       "                                                                 ('scale',\n",
       "                                                                  StandardScaler())]))])),\n",
       "                ('classifier', SVC(C=5, kernel='linear', probability=True))])"
      ]
     },
     "execution_count": 104,
     "metadata": {},
     "output_type": "execute_result"
    }
   ],
   "source": [
    "# show final pipeline configuration\n",
    "set_config(display='diagram')\n",
    "tuned_pipeline"
   ]
  },
  {
   "cell_type": "code",
   "execution_count": 105,
   "metadata": {},
   "outputs": [],
   "source": [
    "# save final model to disk for later deployment\n",
    "filename = 'loan_prediction_model.sav'\n",
    "pickle.dump(tuned_pipeline, open(filename, 'wb'))"
   ]
  },
  {
   "cell_type": "code",
   "execution_count": null,
   "metadata": {},
   "outputs": [],
   "source": []
  }
 ],
 "metadata": {
  "kernelspec": {
   "display_name": "Python 3",
   "language": "python",
   "name": "python3"
  },
  "language_info": {
   "codemirror_mode": {
    "name": "ipython",
    "version": 3
   },
   "file_extension": ".py",
   "mimetype": "text/x-python",
   "name": "python",
   "nbconvert_exporter": "python",
   "pygments_lexer": "ipython3",
   "version": "3.8.2"
  }
 },
 "nbformat": 4,
 "nbformat_minor": 4
}
